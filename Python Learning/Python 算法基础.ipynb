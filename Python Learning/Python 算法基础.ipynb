{
 "cells": [
  {
   "cell_type": "code",
   "execution_count": 2,
   "id": "98a84494",
   "metadata": {},
   "outputs": [],
   "source": [
    "#这行代码可以让一个block输出多个变量\n",
    "from IPython.core.interactiveshell import InteractiveShell\n",
    "InteractiveShell.ast_node_interactivity = \"all\""
   ]
  },
  {
   "cell_type": "markdown",
   "id": "d367e034",
   "metadata": {},
   "source": [
    "# 排序\n",
    "\n",
    "- Bubble Sort 冒泡排序\n",
    "- Insertion Sort 插入排序\n",
    "- Merge Sort 合并排序\n",
    "- Qick Sort 快速排序"
   ]
  },
  {
   "cell_type": "markdown",
   "id": "ff47e013",
   "metadata": {},
   "source": [
    "## Big O Notation\n",
    "$O(1)$"
   ]
  },
  {
   "cell_type": "code",
   "execution_count": 3,
   "id": "416779b8",
   "metadata": {},
   "outputs": [
    {
     "data": {
      "text/plain": [
       "9"
      ]
     },
     "execution_count": 3,
     "metadata": {},
     "output_type": "execute_result"
    }
   ],
   "source": [
    "def square(x):\n",
    "    return x * x\n",
    "\n",
    "square(3)"
   ]
  },
  {
   "cell_type": "markdown",
   "id": "5875b23e",
   "metadata": {},
   "source": [
    "$O(n)$"
   ]
  },
  {
   "cell_type": "code",
   "execution_count": 14,
   "id": "70491ff2",
   "metadata": {},
   "outputs": [
    {
     "data": {
      "text/plain": [
       "7"
      ]
     },
     "execution_count": 14,
     "metadata": {},
     "output_type": "execute_result"
    }
   ],
   "source": [
    "def find_max(l):\n",
    "    if l is None or len(l) == 0:\n",
    "        return None\n",
    "    mx = l[0]\n",
    "    for n in l:\n",
    "        if n > mx:\n",
    "            mx = n\n",
    "    return mx\n",
    "\n",
    "l = [3,4,5,7]\n",
    "find_max(l)"
   ]
  },
  {
   "cell_type": "markdown",
   "id": "f78bcb6a",
   "metadata": {},
   "source": [
    "$O(n^2)$"
   ]
  },
  {
   "cell_type": "code",
   "execution_count": 15,
   "id": "eac1e9df",
   "metadata": {},
   "outputs": [
    {
     "data": {
      "text/plain": [
       "False"
      ]
     },
     "execution_count": 15,
     "metadata": {},
     "output_type": "execute_result"
    }
   ],
   "source": [
    "def has_duplicate(l):\n",
    "    for i in range(len(l)):\n",
    "        for j in range(i + 1, len(l)):\n",
    "            if l[i] == l[j]:\n",
    "                return True\n",
    "    else:\n",
    "        return False\n",
    "    \n",
    "l = [3,4,6,8]\n",
    "has_duplicate(l)"
   ]
  },
  {
   "cell_type": "markdown",
   "id": "b84ce25e",
   "metadata": {},
   "source": [
    "- Recursion\n",
    "- Two Pinters\n",
    "- Greedy\n",
    "- Dynamic Programming"
   ]
  },
  {
   "cell_type": "markdown",
   "id": "8977b069",
   "metadata": {},
   "source": [
    "Fibonacci斐波那契 (递归练习)\n"
   ]
  },
  {
   "cell_type": "code",
   "execution_count": 18,
   "id": "0d367fdb",
   "metadata": {},
   "outputs": [
    {
     "data": {
      "text/plain": [
       "1"
      ]
     },
     "execution_count": 18,
     "metadata": {},
     "output_type": "execute_result"
    }
   ],
   "source": [
    "#思路：先给一个结束条件（base）- 数学归纳法\n",
    "def fibonacci(n):\n",
    "    if n == 0:\n",
    "        return 0;\n",
    "    elif n == 1:\n",
    "        return 1\n",
    "    else:\n",
    "        return fibonacci(n-1) + fibonacci(n-2) #递归就是调用自己\n",
    "    \n",
    "fibonacci(2)"
   ]
  },
  {
   "cell_type": "markdown",
   "id": "c9421b60",
   "metadata": {},
   "source": [
    "上面代码的时间复杂度是 $O（2^n）$ ，因此效率较低。原因主要有以下两点：\n",
    "\n",
    "递归调用过多：斐波那契数列的递推式是 F(n) = F(n-1) + F(n-2)，因此求解 F(n) 需要先求解 F(n-1) 和 F(n-2)，这两个值又需要分别求解 F(n-2)、F(n-3)、F(n-3)、F(n-4)。这样递归调用的层数会随着 n 的增加而快速增加，导致时间复杂度呈指数级别增长。\n",
    "\n",
    "重复计算：由于递归调用过多，很多值会被重复计算多次，这样会导致计算效率降低。例如，当计算 F(n) 时，会先计算 F(n-1) 和 F(n-2)，而当计算 F(n-1) 时，又会重复计算 F(n-2)，这些重复计算会导致效率低下。\n",
    "\n",
    "画个树图比较好理解。"
   ]
  },
  {
   "cell_type": "markdown",
   "id": "70cf35af",
   "metadata": {},
   "source": [
    "### Assert\n",
    "Python 中的 assert 语句可以用来检查某个条件是否成立，如果不成立，则会抛出 AssertionError 异常。\n",
    "\n",
    "语法：assert condition, [message]\n",
    "\n",
    "其中，condition 是要检查的条件，如果不成立就会抛出 AssertionError 异常。message 是可选的，是一个字符串，用来指定断言失败时输出的错误信息。"
   ]
  },
  {
   "cell_type": "code",
   "execution_count": 23,
   "id": "e43da2a0",
   "metadata": {},
   "outputs": [
    {
     "name": "stdout",
     "output_type": "stream",
     "text": [
      "5.0\n"
     ]
    }
   ],
   "source": [
    "def divide(a, b):\n",
    "    assert b != 0, \"除数不能为零\"\n",
    "    return a / b\n",
    "\n",
    "print(divide(10, 2))  # 输出 5.0"
   ]
  },
  {
   "cell_type": "code",
   "execution_count": 24,
   "id": "a3cb3784",
   "metadata": {},
   "outputs": [
    {
     "ename": "AssertionError",
     "evalue": "除数不能为零",
     "output_type": "error",
     "traceback": [
      "\u001b[1;31m---------------------------------------------------------------------------\u001b[0m",
      "\u001b[1;31mAssertionError\u001b[0m                            Traceback (most recent call last)",
      "\u001b[1;32m~\\AppData\\Local\\Temp/ipykernel_5844/1959997957.py\u001b[0m in \u001b[0;36m<module>\u001b[1;34m\u001b[0m\n\u001b[1;32m----> 1\u001b[1;33m \u001b[0mprint\u001b[0m\u001b[1;33m(\u001b[0m\u001b[0mdivide\u001b[0m\u001b[1;33m(\u001b[0m\u001b[1;36m10\u001b[0m\u001b[1;33m,\u001b[0m \u001b[1;36m0\u001b[0m\u001b[1;33m)\u001b[0m\u001b[1;33m)\u001b[0m  \u001b[1;31m# 抛出 AssertionError 异常，错误信息为“除数不能为零”\u001b[0m\u001b[1;33m\u001b[0m\u001b[1;33m\u001b[0m\u001b[0m\n\u001b[0m",
      "\u001b[1;32m~\\AppData\\Local\\Temp/ipykernel_5844/4113938512.py\u001b[0m in \u001b[0;36mdivide\u001b[1;34m(a, b)\u001b[0m\n\u001b[0;32m      1\u001b[0m \u001b[1;32mdef\u001b[0m \u001b[0mdivide\u001b[0m\u001b[1;33m(\u001b[0m\u001b[0ma\u001b[0m\u001b[1;33m,\u001b[0m \u001b[0mb\u001b[0m\u001b[1;33m)\u001b[0m\u001b[1;33m:\u001b[0m\u001b[1;33m\u001b[0m\u001b[1;33m\u001b[0m\u001b[0m\n\u001b[1;32m----> 2\u001b[1;33m     \u001b[1;32massert\u001b[0m \u001b[0mb\u001b[0m \u001b[1;33m!=\u001b[0m \u001b[1;36m0\u001b[0m\u001b[1;33m,\u001b[0m \u001b[1;34m\"除数不能为零\"\u001b[0m\u001b[1;33m\u001b[0m\u001b[1;33m\u001b[0m\u001b[0m\n\u001b[0m\u001b[0;32m      3\u001b[0m     \u001b[1;32mreturn\u001b[0m \u001b[0ma\u001b[0m \u001b[1;33m/\u001b[0m \u001b[0mb\u001b[0m\u001b[1;33m\u001b[0m\u001b[1;33m\u001b[0m\u001b[0m\n\u001b[0;32m      4\u001b[0m \u001b[1;33m\u001b[0m\u001b[0m\n\u001b[0;32m      5\u001b[0m \u001b[0mprint\u001b[0m\u001b[1;33m(\u001b[0m\u001b[0mdivide\u001b[0m\u001b[1;33m(\u001b[0m\u001b[1;36m10\u001b[0m\u001b[1;33m,\u001b[0m \u001b[1;36m2\u001b[0m\u001b[1;33m)\u001b[0m\u001b[1;33m)\u001b[0m  \u001b[1;31m# 输出 5.0\u001b[0m\u001b[1;33m\u001b[0m\u001b[1;33m\u001b[0m\u001b[0m\n",
      "\u001b[1;31mAssertionError\u001b[0m: 除数不能为零"
     ]
    }
   ],
   "source": [
    "print(divide(10, 0))  # 抛出 AssertionError 异常，错误信息为“除数不能为零”"
   ]
  },
  {
   "cell_type": "code",
   "execution_count": 25,
   "id": "2687c2a4",
   "metadata": {},
   "outputs": [
    {
     "data": {
      "text/plain": [
       "354224848179261915075"
      ]
     },
     "execution_count": 25,
     "metadata": {},
     "output_type": "execute_result"
    }
   ],
   "source": [
    "# 斐波那契算法优化\n",
    "def fibonacci2(n):\n",
    "    assert(n >= 0)\n",
    "    a,b = 0,1\n",
    "    for i in range(1,n+1):\n",
    "        a,b = b,a+b\n",
    "    return a\n",
    "\n",
    "fibonacci2(100)\n",
    "\n",
    "#时间复杂度为O（n）"
   ]
  },
  {
   "cell_type": "code",
   "execution_count": 27,
   "id": "cfdf05e2",
   "metadata": {},
   "outputs": [
    {
     "data": {
      "text/plain": [
       "354224848179261915075"
      ]
     },
     "execution_count": 27,
     "metadata": {},
     "output_type": "execute_result"
    }
   ],
   "source": [
    "#斐波那契算法递归优化\n",
    "def fibonacci3(n):\n",
    "    assert(n>=0)\n",
    "    if(n <=1):\n",
    "        return (n,0)\n",
    "    (a,b) = fibonacci3(n-1) #直接把值用变量存起来，要用到的时候直接调用变量，避免重复计算\n",
    "    return (a+b,a)\n",
    "\n",
    "fibonacci2(100)"
   ]
  },
  {
   "cell_type": "code",
   "execution_count": 20,
   "id": "72650122",
   "metadata": {},
   "outputs": [
    {
     "data": {
      "text/plain": [
       "5050"
      ]
     },
     "execution_count": 20,
     "metadata": {},
     "output_type": "execute_result"
    }
   ],
   "source": [
    "# 从0累加到100,时间复杂度为O（n）\n",
    "def mysum(n):\n",
    "    r = 0\n",
    "    for i in range(n+1):\n",
    "        r += i\n",
    "    return r\n",
    "\n",
    "mysum(100)"
   ]
  },
  {
   "cell_type": "code",
   "execution_count": 21,
   "id": "fa35f082",
   "metadata": {},
   "outputs": [
    {
     "data": {
      "text/plain": [
       "5050"
      ]
     },
     "execution_count": 21,
     "metadata": {},
     "output_type": "execute_result"
    }
   ],
   "source": [
    "def mysum2(n):\n",
    "    if n == 1:\n",
    "        return 1\n",
    "    return mysum2(n-1) + n\n",
    "\n",
    "#结束条件是n=1。如果n=100，判断n不等于1，return 99 + 100。\n",
    "# 99 也不等于1，return 98 + 99 + 100 ...\n",
    "\n",
    "mysum2(100)\n",
    "\n",
    "#时间复杂度也为O（n）"
   ]
  },
  {
   "cell_type": "markdown",
   "id": "03536825",
   "metadata": {},
   "source": [
    "注意：在python中recursion不能无限大，上限是999，因为recursion很消耗内存。"
   ]
  },
  {
   "cell_type": "markdown",
   "id": "690b93ea",
   "metadata": {},
   "source": [
    "# Binary Search\n",
    "\n",
    "在已排序的数组 arr 中查找元素 x 的索引（index）\n",
    "\n",
    "如果找到，返回元素的索引；如果没找到，返回 -1。"
   ]
  },
  {
   "cell_type": "code",
   "execution_count": 3,
   "id": "868baca2",
   "metadata": {},
   "outputs": [],
   "source": [
    "# brutle force 去写，时间复杂度为O（n）\n",
    "def binary_search(arr, x):\n",
    "    #if empty\n",
    "    if arr == None:\n",
    "        return -1\n",
    "    \n",
    "    for i in range(len(arr)):\n",
    "        if arr[i] == x:\n",
    "            return i\n",
    "    return -1"
   ]
  },
  {
   "cell_type": "code",
   "execution_count": 4,
   "id": "9e81ba0b",
   "metadata": {},
   "outputs": [
    {
     "data": {
      "text/plain": [
       "3"
      ]
     },
     "execution_count": 4,
     "metadata": {},
     "output_type": "execute_result"
    }
   ],
   "source": [
    "arr = [2, 3, 4, 10, 40]\n",
    "x = 10\n",
    "\n",
    "binary_search(arr,x)"
   ]
  },
  {
   "cell_type": "code",
   "execution_count": 12,
   "id": "51726d06",
   "metadata": {},
   "outputs": [],
   "source": [
    "# 第二种方式\n",
    "def bi_search(num_list,val):\n",
    "    l = 0\n",
    "    h = len(num_list)\n",
    "    \n",
    "    while(l <= h):\n",
    "        mid = (l + h) // 2\n",
    "        if(num_list[mid] == val):\n",
    "            return mid\n",
    "        elif (num_list[mid] > val):\n",
    "            h = mid - 1\n",
    "        else:\n",
    "            l = mid + 1\n",
    "    return -1"
   ]
  },
  {
   "cell_type": "code",
   "execution_count": 13,
   "id": "e17348f6",
   "metadata": {},
   "outputs": [
    {
     "data": {
      "text/plain": [
       "4"
      ]
     },
     "execution_count": 13,
     "metadata": {},
     "output_type": "execute_result"
    }
   ],
   "source": [
    "list1 = [3,4,5,6,7]\n",
    "bi_search(list1,7)"
   ]
  },
  {
   "cell_type": "code",
   "execution_count": null,
   "id": "3500ca70",
   "metadata": {},
   "outputs": [],
   "source": []
  },
  {
   "cell_type": "code",
   "execution_count": null,
   "id": "ef1c3920",
   "metadata": {},
   "outputs": [],
   "source": []
  },
  {
   "cell_type": "code",
   "execution_count": null,
   "id": "b7c84a2e",
   "metadata": {},
   "outputs": [],
   "source": []
  },
  {
   "cell_type": "code",
   "execution_count": null,
   "id": "e2a6eb95",
   "metadata": {},
   "outputs": [],
   "source": []
  },
  {
   "cell_type": "code",
   "execution_count": null,
   "id": "384d41a3",
   "metadata": {},
   "outputs": [],
   "source": []
  },
  {
   "cell_type": "code",
   "execution_count": null,
   "id": "e456016e",
   "metadata": {},
   "outputs": [],
   "source": []
  },
  {
   "cell_type": "code",
   "execution_count": null,
   "id": "adb8fbda",
   "metadata": {},
   "outputs": [],
   "source": []
  },
  {
   "cell_type": "code",
   "execution_count": null,
   "id": "eefb8cb4",
   "metadata": {},
   "outputs": [],
   "source": []
  },
  {
   "cell_type": "code",
   "execution_count": null,
   "id": "dca6d84c",
   "metadata": {},
   "outputs": [],
   "source": []
  },
  {
   "cell_type": "code",
   "execution_count": null,
   "id": "7b62ec41",
   "metadata": {},
   "outputs": [],
   "source": []
  },
  {
   "cell_type": "code",
   "execution_count": null,
   "id": "73d50542",
   "metadata": {},
   "outputs": [],
   "source": []
  },
  {
   "cell_type": "code",
   "execution_count": null,
   "id": "1943c7fb",
   "metadata": {},
   "outputs": [],
   "source": []
  },
  {
   "cell_type": "code",
   "execution_count": null,
   "id": "d5737fea",
   "metadata": {},
   "outputs": [],
   "source": []
  },
  {
   "cell_type": "code",
   "execution_count": null,
   "id": "48e61682",
   "metadata": {},
   "outputs": [],
   "source": []
  },
  {
   "cell_type": "code",
   "execution_count": null,
   "id": "c509cdc0",
   "metadata": {},
   "outputs": [],
   "source": []
  },
  {
   "cell_type": "code",
   "execution_count": null,
   "id": "eac72afb",
   "metadata": {},
   "outputs": [],
   "source": []
  },
  {
   "cell_type": "code",
   "execution_count": null,
   "id": "906177ec",
   "metadata": {},
   "outputs": [],
   "source": []
  }
 ],
 "metadata": {
  "kernelspec": {
   "display_name": "Python 3 (ipykernel)",
   "language": "python",
   "name": "python3"
  },
  "language_info": {
   "codemirror_mode": {
    "name": "ipython",
    "version": 3
   },
   "file_extension": ".py",
   "mimetype": "text/x-python",
   "name": "python",
   "nbconvert_exporter": "python",
   "pygments_lexer": "ipython3",
   "version": "3.9.7"
  }
 },
 "nbformat": 4,
 "nbformat_minor": 5
}
