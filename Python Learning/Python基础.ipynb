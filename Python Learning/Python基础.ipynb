{
 "cells": [
  {
   "cell_type": "markdown",
   "id": "a7b47cfd",
   "metadata": {},
   "source": [
    "Python自学网站：https://www.liaoxuefeng.com/wiki/1016959663602400"
   ]
  },
  {
   "cell_type": "code",
   "execution_count": 32,
   "id": "d489df8c",
   "metadata": {},
   "outputs": [],
   "source": [
    "#这行代码可以让一个block输出多个变量\n",
    "from IPython.core.interactiveshell import InteractiveShell\n",
    "InteractiveShell.ast_node_interactivity = \"all\""
   ]
  },
  {
   "cell_type": "markdown",
   "id": "54528ad4",
   "metadata": {},
   "source": [
    "# 基本输出"
   ]
  },
  {
   "cell_type": "code",
   "execution_count": 2,
   "id": "175dadb3",
   "metadata": {},
   "outputs": [
    {
     "name": "stdout",
     "output_type": "stream",
     "text": [
      "Hello World\n"
     ]
    }
   ],
   "source": [
    "print(\"Hello World\")"
   ]
  },
  {
   "cell_type": "code",
   "execution_count": 3,
   "id": "3fcad43b",
   "metadata": {},
   "outputs": [
    {
     "name": "stdout",
     "output_type": "stream",
     "text": [
      "转行符\n",
      "这段转行了\n"
     ]
    }
   ],
   "source": [
    "print(\"转行符\\n这段转行了\")"
   ]
  },
  {
   "cell_type": "code",
   "execution_count": 4,
   "id": "adba867b",
   "metadata": {},
   "outputs": [
    {
     "data": {
      "text/plain": [
       "str"
      ]
     },
     "execution_count": 4,
     "metadata": {},
     "output_type": "execute_result"
    }
   ],
   "source": [
    "type(\"type会告诉你这是字符串类型\")"
   ]
  },
  {
   "cell_type": "code",
   "execution_count": 5,
   "id": "020c36ea",
   "metadata": {},
   "outputs": [
    {
     "name": "stdout",
     "output_type": "stream",
     "text": [
      "查看print的说明文档\n"
     ]
    }
   ],
   "source": [
    "?print \n",
    "print(\"查看print的说明文档\")"
   ]
  },
  {
   "cell_type": "markdown",
   "id": "3228d806",
   "metadata": {},
   "source": [
    "# 基本计算"
   ]
  },
  {
   "cell_type": "code",
   "execution_count": 6,
   "id": "50d8d6b5",
   "metadata": {},
   "outputs": [
    {
     "name": "stdout",
     "output_type": "stream",
     "text": [
      "3\n"
     ]
    }
   ],
   "source": [
    "c = 1 + 2\n",
    "print(c)"
   ]
  },
  {
   "cell_type": "code",
   "execution_count": 7,
   "id": "a58315d8",
   "metadata": {},
   "outputs": [
    {
     "data": {
      "text/plain": [
       "3"
      ]
     },
     "execution_count": 7,
     "metadata": {},
     "output_type": "execute_result"
    }
   ],
   "source": [
    "1 + 2     #不写print也可以直接输出"
   ]
  },
  {
   "cell_type": "code",
   "execution_count": 8,
   "id": "fd483644",
   "metadata": {},
   "outputs": [
    {
     "name": "stdout",
     "output_type": "stream",
     "text": [
      "-1\n"
     ]
    }
   ],
   "source": [
    "print(4-5)"
   ]
  },
  {
   "cell_type": "code",
   "execution_count": 9,
   "id": "807c129b",
   "metadata": {},
   "outputs": [
    {
     "data": {
      "text/plain": [
       "6"
      ]
     },
     "execution_count": 9,
     "metadata": {},
     "output_type": "execute_result"
    }
   ],
   "source": [
    "3*2"
   ]
  },
  {
   "cell_type": "code",
   "execution_count": 10,
   "id": "e1eb9c0f",
   "metadata": {},
   "outputs": [
    {
     "data": {
      "text/plain": [
       "8.481110254433307"
      ]
     },
     "execution_count": 10,
     "metadata": {},
     "output_type": "execute_result"
    }
   ],
   "source": [
    "110/12.97"
   ]
  },
  {
   "cell_type": "markdown",
   "id": "36f0167b",
   "metadata": {},
   "source": [
    "# 变量"
   ]
  },
  {
   "cell_type": "code",
   "execution_count": 11,
   "id": "8c9c9f29",
   "metadata": {},
   "outputs": [],
   "source": [
    "number_of_cars = 34"
   ]
  },
  {
   "cell_type": "code",
   "execution_count": 12,
   "id": "f2097292",
   "metadata": {},
   "outputs": [
    {
     "data": {
      "text/plain": [
       "int"
      ]
     },
     "execution_count": 12,
     "metadata": {},
     "output_type": "execute_result"
    }
   ],
   "source": [
    "type(number_of_cars)"
   ]
  },
  {
   "cell_type": "code",
   "execution_count": 13,
   "id": "6394c94b",
   "metadata": {},
   "outputs": [
    {
     "data": {
      "text/plain": [
       "str"
      ]
     },
     "execution_count": 13,
     "metadata": {},
     "output_type": "execute_result"
    }
   ],
   "source": [
    "type(\"number_of_cars\")"
   ]
  },
  {
   "cell_type": "code",
   "execution_count": 14,
   "id": "0bcc8d5b",
   "metadata": {},
   "outputs": [],
   "source": [
    "#缩进会影响输出结果\n",
    "x = 8\n",
    "if x < 7:\n",
    "    print(\"x is smaller than 7\")\n",
    "    print(\"x is bigger than 7\")"
   ]
  },
  {
   "cell_type": "code",
   "execution_count": 15,
   "id": "d6297ec8",
   "metadata": {},
   "outputs": [
    {
     "name": "stdout",
     "output_type": "stream",
     "text": [
      "x is bigger than 7\n"
     ]
    }
   ],
   "source": [
    "x = 8\n",
    "if x < 7:\n",
    "    print(\"x is smaller than 7\")\n",
    "print(\"x is bigger than 7\")"
   ]
  },
  {
   "cell_type": "code",
   "execution_count": 16,
   "id": "20f0ef63",
   "metadata": {},
   "outputs": [
    {
     "name": "stdout",
     "output_type": "stream",
     "text": [
      "1000\n"
     ]
    }
   ],
   "source": [
    "speed = 110/12.97\n",
    "speed = 1000\n",
    "print(speed)"
   ]
  },
  {
   "cell_type": "code",
   "execution_count": 17,
   "id": "a45c0751",
   "metadata": {},
   "outputs": [
    {
     "name": "stdout",
     "output_type": "stream",
     "text": [
      "1.0\n"
     ]
    }
   ],
   "source": [
    "distance = 1000\n",
    "time = distance / speed\n",
    "print(time)"
   ]
  },
  {
   "cell_type": "markdown",
   "id": "5ca90977",
   "metadata": {},
   "source": [
    "# 数据类型\n",
    "1. Integer（int）\n",
    "2. Float 浮点数\n",
    "3. Boolean 布尔（真/假）\n",
    "4. String 字符串"
   ]
  },
  {
   "cell_type": "markdown",
   "id": "c73086b3",
   "metadata": {},
   "source": [
    "## Integer"
   ]
  },
  {
   "cell_type": "code",
   "execution_count": 18,
   "id": "495a95a6",
   "metadata": {},
   "outputs": [
    {
     "data": {
      "text/plain": [
       "123"
      ]
     },
     "execution_count": 18,
     "metadata": {},
     "output_type": "execute_result"
    }
   ],
   "source": [
    "123"
   ]
  },
  {
   "cell_type": "code",
   "execution_count": 19,
   "id": "72dbc781",
   "metadata": {},
   "outputs": [
    {
     "data": {
      "text/plain": [
       "int"
      ]
     },
     "execution_count": 19,
     "metadata": {},
     "output_type": "execute_result"
    }
   ],
   "source": [
    "type(97)"
   ]
  },
  {
   "cell_type": "code",
   "execution_count": 20,
   "id": "555eb072",
   "metadata": {},
   "outputs": [
    {
     "data": {
      "text/plain": [
       "(123, 567, 789)"
      ]
     },
     "execution_count": 20,
     "metadata": {},
     "output_type": "execute_result"
    }
   ],
   "source": [
    "123,567,789"
   ]
  },
  {
   "cell_type": "code",
   "execution_count": 21,
   "id": "e39947b6",
   "metadata": {},
   "outputs": [
    {
     "data": {
      "text/plain": [
       "tuple"
      ]
     },
     "execution_count": 21,
     "metadata": {},
     "output_type": "execute_result"
    }
   ],
   "source": [
    "type((123,567,789))"
   ]
  },
  {
   "cell_type": "code",
   "execution_count": 22,
   "id": "5bf1e761",
   "metadata": {},
   "outputs": [
    {
     "name": "stdout",
     "output_type": "stream",
     "text": [
      "10\n"
     ]
    }
   ],
   "source": [
    "a = 5\n",
    "a += 5\n",
    "print(a)"
   ]
  },
  {
   "cell_type": "code",
   "execution_count": 23,
   "id": "47dd0224",
   "metadata": {},
   "outputs": [
    {
     "name": "stdout",
     "output_type": "stream",
     "text": [
      "7\n"
     ]
    }
   ],
   "source": [
    "a -= 3\n",
    "print(a)"
   ]
  },
  {
   "cell_type": "code",
   "execution_count": 24,
   "id": "15d18026",
   "metadata": {},
   "outputs": [
    {
     "data": {
      "text/plain": [
       "1"
      ]
     },
     "execution_count": 24,
     "metadata": {},
     "output_type": "execute_result"
    }
   ],
   "source": [
    " #取整\n",
    "9//5"
   ]
  },
  {
   "cell_type": "code",
   "execution_count": 25,
   "id": "5bce40d2",
   "metadata": {},
   "outputs": [
    {
     "data": {
      "text/plain": [
       "4"
      ]
     },
     "execution_count": 25,
     "metadata": {},
     "output_type": "execute_result"
    }
   ],
   "source": [
    "#取余\n",
    "9%5"
   ]
  },
  {
   "cell_type": "code",
   "execution_count": 26,
   "id": "c80e2549",
   "metadata": {},
   "outputs": [
    {
     "name": "stdout",
     "output_type": "stream",
     "text": [
      "10\n",
      "10.0\n"
     ]
    }
   ],
   "source": [
    "#两个整数进行运算，结果为整数。整数和浮点数运算，结果为浮点数\n",
    "print(5+5)\n",
    "print(5+5.0)"
   ]
  },
  {
   "cell_type": "code",
   "execution_count": 27,
   "id": "49f2e796",
   "metadata": {},
   "outputs": [
    {
     "data": {
      "text/plain": [
       "2"
      ]
     },
     "execution_count": 27,
     "metadata": {},
     "output_type": "execute_result"
    }
   ],
   "source": [
    "#二进制\n",
    "0b10"
   ]
  },
  {
   "cell_type": "code",
   "execution_count": 28,
   "id": "fc6d870a",
   "metadata": {},
   "outputs": [
    {
     "data": {
      "text/plain": [
       "8"
      ]
     },
     "execution_count": 28,
     "metadata": {},
     "output_type": "execute_result"
    }
   ],
   "source": [
    "#八进制\n",
    "0o10"
   ]
  },
  {
   "cell_type": "code",
   "execution_count": 29,
   "id": "2b99d174",
   "metadata": {},
   "outputs": [
    {
     "data": {
      "text/plain": [
       "16"
      ]
     },
     "execution_count": 29,
     "metadata": {},
     "output_type": "execute_result"
    }
   ],
   "source": [
    "#十六进制\n",
    "0x10"
   ]
  },
  {
   "cell_type": "markdown",
   "id": "d999bd2e",
   "metadata": {},
   "source": [
    "## Float"
   ]
  },
  {
   "cell_type": "code",
   "execution_count": 30,
   "id": "7a6b56b8",
   "metadata": {},
   "outputs": [
    {
     "data": {
      "text/plain": [
       "98.5"
      ]
     },
     "execution_count": 30,
     "metadata": {},
     "output_type": "execute_result"
    }
   ],
   "source": [
    "98.5"
   ]
  },
  {
   "cell_type": "code",
   "execution_count": 31,
   "id": "80d64538",
   "metadata": {},
   "outputs": [
    {
     "data": {
      "text/plain": [
       "float"
      ]
     },
     "execution_count": 31,
     "metadata": {},
     "output_type": "execute_result"
    }
   ],
   "source": [
    "type(98.5)"
   ]
  },
  {
   "cell_type": "markdown",
   "id": "92ae3ebf",
   "metadata": {},
   "source": [
    "### Math Function"
   ]
  },
  {
   "cell_type": "code",
   "execution_count": 32,
   "id": "0b6aa016",
   "metadata": {},
   "outputs": [],
   "source": [
    "import math"
   ]
  },
  {
   "cell_type": "code",
   "execution_count": 33,
   "id": "f3706249",
   "metadata": {},
   "outputs": [
    {
     "name": "stdout",
     "output_type": "stream",
     "text": [
      "3.141592653589793\n",
      "2.718281828459045\n"
     ]
    }
   ],
   "source": [
    "print(math.pi)\n",
    "print(math.e)"
   ]
  },
  {
   "cell_type": "code",
   "execution_count": 34,
   "id": "c503423a",
   "metadata": {},
   "outputs": [
    {
     "name": "stdout",
     "output_type": "stream",
     "text": [
      "98\n",
      "99\n"
     ]
    }
   ],
   "source": [
    "print(math.floor(98.9))\n",
    "print(math.ceil(98.9))"
   ]
  },
  {
   "cell_type": "code",
   "execution_count": 35,
   "id": "6e445248",
   "metadata": {},
   "outputs": [
    {
     "name": "stdout",
     "output_type": "stream",
     "text": [
      "8.0\n",
      "8\n"
     ]
    }
   ],
   "source": [
    "print(math.pow(2,3)) #这个方法结果通常返回浮点数\n",
    "print(2**3) #这个方法结果通常返回整数"
   ]
  },
  {
   "cell_type": "code",
   "execution_count": 36,
   "id": "7172e48c",
   "metadata": {},
   "outputs": [
    {
     "name": "stdout",
     "output_type": "stream",
     "text": [
      "5.0\n"
     ]
    }
   ],
   "source": [
    "print(math.sqrt(25)) #这个方法结果通常返回浮点数"
   ]
  },
  {
   "cell_type": "markdown",
   "id": "71e2bf30",
   "metadata": {},
   "source": [
    "## Boolean"
   ]
  },
  {
   "cell_type": "code",
   "execution_count": 37,
   "id": "668ea0eb",
   "metadata": {},
   "outputs": [
    {
     "data": {
      "text/plain": [
       "bool"
      ]
     },
     "execution_count": 37,
     "metadata": {},
     "output_type": "execute_result"
    }
   ],
   "source": [
    "type(1<2)"
   ]
  },
  {
   "cell_type": "code",
   "execution_count": 38,
   "id": "fa59f7a6",
   "metadata": {},
   "outputs": [
    {
     "data": {
      "text/plain": [
       "True"
      ]
     },
     "execution_count": 38,
     "metadata": {},
     "output_type": "execute_result"
    }
   ],
   "source": [
    "(2<1) or (1<2)"
   ]
  },
  {
   "cell_type": "code",
   "execution_count": 39,
   "id": "f55a657b",
   "metadata": {},
   "outputs": [
    {
     "data": {
      "text/plain": [
       "True"
      ]
     },
     "execution_count": 39,
     "metadata": {},
     "output_type": "execute_result"
    }
   ],
   "source": [
    "not (2<1)"
   ]
  },
  {
   "cell_type": "code",
   "execution_count": 40,
   "id": "7f778e41",
   "metadata": {},
   "outputs": [
    {
     "data": {
      "text/plain": [
       "False"
      ]
     },
     "execution_count": 40,
     "metadata": {},
     "output_type": "execute_result"
    }
   ],
   "source": [
    "a = (2 == 1) #等于\n",
    "a"
   ]
  },
  {
   "cell_type": "code",
   "execution_count": 41,
   "id": "c79881ae",
   "metadata": {},
   "outputs": [
    {
     "data": {
      "text/plain": [
       "True"
      ]
     },
     "execution_count": 41,
     "metadata": {},
     "output_type": "execute_result"
    }
   ],
   "source": [
    "a = (2 != 1) #不等于\n",
    "a"
   ]
  },
  {
   "cell_type": "markdown",
   "id": "a769bd9d",
   "metadata": {},
   "source": [
    "## String"
   ]
  },
  {
   "cell_type": "code",
   "execution_count": 42,
   "id": "5840eca4",
   "metadata": {},
   "outputs": [
    {
     "data": {
      "text/plain": [
       "str"
      ]
     },
     "execution_count": 42,
     "metadata": {},
     "output_type": "execute_result"
    }
   ],
   "source": [
    "s = 'this is a string'\n",
    "type(s)"
   ]
  },
  {
   "cell_type": "code",
   "execution_count": 43,
   "id": "d13e5b94",
   "metadata": {},
   "outputs": [
    {
     "name": "stdout",
     "output_type": "stream",
     "text": [
      "I'm a string\n"
     ]
    }
   ],
   "source": [
    "print(\"I'm a string\")"
   ]
  },
  {
   "cell_type": "code",
   "execution_count": 44,
   "id": "3fd253f6",
   "metadata": {},
   "outputs": [
    {
     "name": "stdout",
     "output_type": "stream",
     "text": [
      "he said:\"I am a string\"\n"
     ]
    }
   ],
   "source": [
    "#转义字符\\\n",
    "print(\"he said:\\\"I am a string\\\"\") "
   ]
  },
  {
   "cell_type": "code",
   "execution_count": 45,
   "id": "82c8b36d",
   "metadata": {},
   "outputs": [
    {
     "name": "stdout",
     "output_type": "stream",
     "text": [
      "转行符\n",
      "这段转行了\n"
     ]
    }
   ],
   "source": [
    "print(\"转行符\\n这段转行了\")"
   ]
  },
  {
   "cell_type": "code",
   "execution_count": 46,
   "id": "8e832465",
   "metadata": {},
   "outputs": [
    {
     "name": "stdout",
     "output_type": "stream",
     "text": [
      "\n",
      "this is a file\n",
      "this is the second line\n",
      "\n"
     ]
    }
   ],
   "source": [
    "# 排版\n",
    "s = '''\n",
    "this is a file\n",
    "this is the second line\n",
    "'''\n",
    "print(s)"
   ]
  },
  {
   "cell_type": "markdown",
   "id": "60635039",
   "metadata": {},
   "source": [
    "## 数据类型之间的转化"
   ]
  },
  {
   "cell_type": "code",
   "execution_count": 47,
   "id": "78a638de",
   "metadata": {},
   "outputs": [
    {
     "data": {
      "text/plain": [
       "str"
      ]
     },
     "execution_count": 47,
     "metadata": {},
     "output_type": "execute_result"
    }
   ],
   "source": [
    "a = str(93.6)\n",
    "type(a)"
   ]
  },
  {
   "cell_type": "code",
   "execution_count": 48,
   "id": "2728bb16",
   "metadata": {},
   "outputs": [
    {
     "name": "stdout",
     "output_type": "stream",
     "text": [
      "1010\n"
     ]
    },
    {
     "data": {
      "text/plain": [
       "str"
      ]
     },
     "execution_count": 48,
     "metadata": {},
     "output_type": "execute_result"
    }
   ],
   "source": [
    "#字符串拼接\n",
    "print('10'+'10')\n",
    "type('10'+'10')"
   ]
  },
  {
   "cell_type": "code",
   "execution_count": 49,
   "id": "b96f5bcd",
   "metadata": {},
   "outputs": [
    {
     "name": "stdout",
     "output_type": "stream",
     "text": [
      "20\n"
     ]
    },
    {
     "data": {
      "text/plain": [
       "int"
      ]
     },
     "execution_count": 49,
     "metadata": {},
     "output_type": "execute_result"
    }
   ],
   "source": [
    "print(10 + int('10'))\n",
    "type(10 + int('10'))"
   ]
  },
  {
   "cell_type": "code",
   "execution_count": 50,
   "id": "c970a56b",
   "metadata": {},
   "outputs": [
    {
     "name": "stdout",
     "output_type": "stream",
     "text": [
      "1010\n"
     ]
    },
    {
     "data": {
      "text/plain": [
       "str"
      ]
     },
     "execution_count": 50,
     "metadata": {},
     "output_type": "execute_result"
    }
   ],
   "source": [
    "print('10'+ str(10))\n",
    "type('10'+ str(10))"
   ]
  },
  {
   "cell_type": "code",
   "execution_count": 51,
   "id": "d6c30676",
   "metadata": {},
   "outputs": [
    {
     "data": {
      "text/plain": [
       "'True'"
      ]
     },
     "execution_count": 51,
     "metadata": {},
     "output_type": "execute_result"
    },
    {
     "data": {
      "text/plain": [
       "str"
      ]
     },
     "execution_count": 51,
     "metadata": {},
     "output_type": "execute_result"
    }
   ],
   "source": [
    "b = str(True)\n",
    "b\n",
    "type(b)"
   ]
  },
  {
   "cell_type": "code",
   "execution_count": 52,
   "id": "f26f440a",
   "metadata": {},
   "outputs": [
    {
     "name": "stdout",
     "output_type": "stream",
     "text": [
      "98.0\n"
     ]
    },
    {
     "data": {
      "text/plain": [
       "float"
      ]
     },
     "execution_count": 52,
     "metadata": {},
     "output_type": "execute_result"
    }
   ],
   "source": [
    "c = float(98)\n",
    "print(c)\n",
    "type(c)"
   ]
  },
  {
   "cell_type": "code",
   "execution_count": 53,
   "id": "03939480",
   "metadata": {},
   "outputs": [
    {
     "name": "stdout",
     "output_type": "stream",
     "text": [
      "-123\n"
     ]
    },
    {
     "data": {
      "text/plain": [
       "str"
      ]
     },
     "execution_count": 53,
     "metadata": {},
     "output_type": "execute_result"
    }
   ],
   "source": [
    "d = '-123'\n",
    "print(d)\n",
    "type(d)"
   ]
  },
  {
   "cell_type": "code",
   "execution_count": 54,
   "id": "0a12d94d",
   "metadata": {},
   "outputs": [
    {
     "data": {
      "text/plain": [
       "int"
      ]
     },
     "execution_count": 54,
     "metadata": {},
     "output_type": "execute_result"
    }
   ],
   "source": [
    "type(int(d))"
   ]
  },
  {
   "cell_type": "code",
   "execution_count": 55,
   "id": "dce9e363",
   "metadata": {},
   "outputs": [
    {
     "data": {
      "text/plain": [
       "4"
      ]
     },
     "execution_count": 55,
     "metadata": {},
     "output_type": "execute_result"
    }
   ],
   "source": [
    "# python 中默认 True是1， False是0\n",
    "True + 3"
   ]
  },
  {
   "cell_type": "markdown",
   "id": "2d2194e6",
   "metadata": {},
   "source": [
    "## 合并与粘贴"
   ]
  },
  {
   "cell_type": "code",
   "execution_count": 56,
   "id": "011c6fc7",
   "metadata": {},
   "outputs": [
    {
     "name": "stdout",
     "output_type": "stream",
     "text": [
      "my name is xx \n"
     ]
    }
   ],
   "source": [
    "first = 'my name is'\n",
    "second = 'xx'\n",
    "greeting = first + \" \"+second+ \" \"\n",
    "print(greeting)"
   ]
  },
  {
   "cell_type": "code",
   "execution_count": 57,
   "id": "38c9c2ba",
   "metadata": {},
   "outputs": [
    {
     "name": "stdout",
     "output_type": "stream",
     "text": [
      "hahaha\n"
     ]
    }
   ],
   "source": [
    "laugh = 3 * \"ha\"\n",
    "print(laugh)"
   ]
  },
  {
   "cell_type": "markdown",
   "id": "72dff270",
   "metadata": {},
   "source": [
    "## 提取和切分"
   ]
  },
  {
   "cell_type": "code",
   "execution_count": 58,
   "id": "ef5355da",
   "metadata": {},
   "outputs": [
    {
     "data": {
      "text/plain": [
       "'a'"
      ]
     },
     "execution_count": 58,
     "metadata": {},
     "output_type": "execute_result"
    }
   ],
   "source": [
    "letters = \"abcdefghijklmnopqrstuvwxyz\"\n",
    "letters[0]"
   ]
  },
  {
   "cell_type": "code",
   "execution_count": 59,
   "id": "fce807c5",
   "metadata": {},
   "outputs": [
    {
     "data": {
      "text/plain": [
       "'z'"
      ]
     },
     "execution_count": 59,
     "metadata": {},
     "output_type": "execute_result"
    }
   ],
   "source": [
    "letters[25]"
   ]
  },
  {
   "cell_type": "code",
   "execution_count": 60,
   "id": "9c32f882",
   "metadata": {},
   "outputs": [
    {
     "data": {
      "text/plain": [
       "'爱'"
      ]
     },
     "execution_count": 60,
     "metadata": {},
     "output_type": "execute_result"
    }
   ],
   "source": [
    "letters2 = \"我爱你\"\n",
    "letters2[1]"
   ]
  },
  {
   "cell_type": "code",
   "execution_count": 61,
   "id": "c2efe087",
   "metadata": {},
   "outputs": [
    {
     "data": {
      "text/plain": [
       "'y'"
      ]
     },
     "execution_count": 61,
     "metadata": {},
     "output_type": "execute_result"
    }
   ],
   "source": [
    "letters[-2]"
   ]
  },
  {
   "cell_type": "markdown",
   "id": "53334b44",
   "metadata": {},
   "source": [
    "### 切片用法用法：\n",
    "1. [:] extract the all string\n",
    "2. [start:]  from the start to the end \n",
    "3. [:end] from the beginning to the end -1 offset\n",
    "4. [start:end] from start the end-1\n",
    "5. [start:end:step] from staet to end-1,skipping characters by steps."
   ]
  },
  {
   "cell_type": "markdown",
   "id": "71f16f6b",
   "metadata": {},
   "source": [
    "#### 1. [:] extract the all string"
   ]
  },
  {
   "cell_type": "code",
   "execution_count": 62,
   "id": "34eca00f",
   "metadata": {},
   "outputs": [
    {
     "data": {
      "text/plain": [
       "'abcdefghijklmnopqrstuvwxyz'"
      ]
     },
     "execution_count": 62,
     "metadata": {},
     "output_type": "execute_result"
    }
   ],
   "source": [
    "letters[:]"
   ]
  },
  {
   "cell_type": "markdown",
   "id": "1a41ef9b",
   "metadata": {},
   "source": [
    "#### 2. [start:]  from the start to the end "
   ]
  },
  {
   "cell_type": "code",
   "execution_count": 63,
   "id": "f0d991f9",
   "metadata": {},
   "outputs": [
    {
     "data": {
      "text/plain": [
       "'cdefghijklmnopqrstuvwxyz'"
      ]
     },
     "execution_count": 63,
     "metadata": {},
     "output_type": "execute_result"
    }
   ],
   "source": [
    "letters[2:]"
   ]
  },
  {
   "cell_type": "code",
   "execution_count": 64,
   "id": "ab882f67",
   "metadata": {},
   "outputs": [
    {
     "data": {
      "text/plain": [
       "'xyz'"
      ]
     },
     "execution_count": 64,
     "metadata": {},
     "output_type": "execute_result"
    }
   ],
   "source": [
    "letters[-3:]"
   ]
  },
  {
   "cell_type": "markdown",
   "id": "1d1bb11b",
   "metadata": {},
   "source": [
    "#### 3. [:end] from the beginning to the end -1 offset"
   ]
  },
  {
   "cell_type": "code",
   "execution_count": 65,
   "id": "3fc6a779",
   "metadata": {},
   "outputs": [
    {
     "data": {
      "text/plain": [
       "'abcde'"
      ]
     },
     "execution_count": 65,
     "metadata": {},
     "output_type": "execute_result"
    }
   ],
   "source": [
    "letters[:5]"
   ]
  },
  {
   "cell_type": "code",
   "execution_count": 66,
   "id": "9c6ef946",
   "metadata": {},
   "outputs": [
    {
     "data": {
      "text/plain": [
       "'abcdefghijklmnopqrstuvwxyz'"
      ]
     },
     "execution_count": 66,
     "metadata": {},
     "output_type": "execute_result"
    }
   ],
   "source": [
    "letters[:100]"
   ]
  },
  {
   "cell_type": "markdown",
   "id": "d45a9a1b",
   "metadata": {},
   "source": [
    "#### 4. [start:end] from start the end-1"
   ]
  },
  {
   "cell_type": "code",
   "execution_count": 67,
   "id": "20525b31",
   "metadata": {},
   "outputs": [
    {
     "data": {
      "text/plain": [
       "'cde'"
      ]
     },
     "execution_count": 67,
     "metadata": {},
     "output_type": "execute_result"
    }
   ],
   "source": [
    "letters[2:5]"
   ]
  },
  {
   "cell_type": "code",
   "execution_count": 68,
   "id": "a93cfd3d",
   "metadata": {},
   "outputs": [
    {
     "data": {
      "text/plain": [
       "'uvwx'"
      ]
     },
     "execution_count": 68,
     "metadata": {},
     "output_type": "execute_result"
    }
   ],
   "source": [
    "letters[-6:-2]"
   ]
  },
  {
   "cell_type": "markdown",
   "id": "f84ad0bd",
   "metadata": {},
   "source": [
    "#### 5. [start:end:step] from staet to end-1,skipping characters by steps."
   ]
  },
  {
   "cell_type": "code",
   "execution_count": 69,
   "id": "43af4662",
   "metadata": {},
   "outputs": [
    {
     "data": {
      "text/plain": [
       "'bd'"
      ]
     },
     "execution_count": 69,
     "metadata": {},
     "output_type": "execute_result"
    }
   ],
   "source": [
    "letters[1:5:2]"
   ]
  },
  {
   "cell_type": "code",
   "execution_count": 70,
   "id": "723f55d4",
   "metadata": {},
   "outputs": [
    {
     "data": {
      "text/plain": [
       "'adgjmpsvy'"
      ]
     },
     "execution_count": 70,
     "metadata": {},
     "output_type": "execute_result"
    }
   ],
   "source": [
    "letters[::3]"
   ]
  },
  {
   "cell_type": "code",
   "execution_count": 71,
   "id": "257d4f6f",
   "metadata": {},
   "outputs": [
    {
     "data": {
      "text/plain": [
       "'zyxwvutsrqponmlkjihgfedcba'"
      ]
     },
     "execution_count": 71,
     "metadata": {},
     "output_type": "execute_result"
    }
   ],
   "source": [
    "letters[::-1]"
   ]
  },
  {
   "cell_type": "markdown",
   "id": "aa3dc6e9",
   "metadata": {},
   "source": [
    "### 长度"
   ]
  },
  {
   "cell_type": "code",
   "execution_count": 72,
   "id": "14e070bd",
   "metadata": {},
   "outputs": [
    {
     "data": {
      "text/plain": [
       "26"
      ]
     },
     "execution_count": 72,
     "metadata": {},
     "output_type": "execute_result"
    }
   ],
   "source": [
    "len(letters)"
   ]
  },
  {
   "cell_type": "markdown",
   "id": "aef2bda7",
   "metadata": {},
   "source": [
    "### Split & Combine 切分和合并"
   ]
  },
  {
   "cell_type": "code",
   "execution_count": 73,
   "id": "612049b0",
   "metadata": {},
   "outputs": [
    {
     "data": {
      "text/plain": [
       "['python', 'java', 'c', 'c++', 'swift']"
      ]
     },
     "execution_count": 73,
     "metadata": {},
     "output_type": "execute_result"
    }
   ],
   "source": [
    "lan = \"python java c c++ swift\"\n",
    "lan.split()"
   ]
  },
  {
   "cell_type": "code",
   "execution_count": 74,
   "id": "08ca3f72",
   "metadata": {},
   "outputs": [
    {
     "data": {
      "text/plain": [
       "['php and java', ' python and dataset', ' youtube']"
      ]
     },
     "execution_count": 74,
     "metadata": {},
     "output_type": "execute_result"
    }
   ],
   "source": [
    "tools = \"php and java, python and dataset, youtube\"\n",
    "tools.split(',')"
   ]
  },
  {
   "cell_type": "code",
   "execution_count": 75,
   "id": "cf6321ff",
   "metadata": {},
   "outputs": [
    {
     "data": {
      "text/plain": [
       "'php and java, python and dataset, youtube'"
      ]
     },
     "execution_count": 75,
     "metadata": {},
     "output_type": "execute_result"
    }
   ],
   "source": [
    "','.join(['php and java', ' python and dataset', ' youtube'])"
   ]
  },
  {
   "cell_type": "markdown",
   "id": "154fc7f9",
   "metadata": {},
   "source": [
    "### Substiute 替换"
   ]
  },
  {
   "cell_type": "code",
   "execution_count": 76,
   "id": "994700c6",
   "metadata": {},
   "outputs": [
    {
     "data": {
      "text/plain": [
       "'I hate python. I hate java. I hate php.'"
      ]
     },
     "execution_count": 76,
     "metadata": {},
     "output_type": "execute_result"
    }
   ],
   "source": [
    "s = \"I like python. I like java. I like php.\"\n",
    "s.replace('like','hate')"
   ]
  },
  {
   "cell_type": "code",
   "execution_count": 77,
   "id": "6f74d2f4",
   "metadata": {},
   "outputs": [
    {
     "data": {
      "text/plain": [
       "'I hate python. I like java. I like php.'"
      ]
     },
     "execution_count": 77,
     "metadata": {},
     "output_type": "execute_result"
    }
   ],
   "source": [
    "s.replace('like','hate',1)"
   ]
  },
  {
   "cell_type": "markdown",
   "id": "9c90821f",
   "metadata": {},
   "source": [
    "### 其他可能会用到的工具"
   ]
  },
  {
   "cell_type": "code",
   "execution_count": 78,
   "id": "9eb86817",
   "metadata": {},
   "outputs": [
    {
     "data": {
      "text/plain": [
       "True"
      ]
     },
     "execution_count": 78,
     "metadata": {},
     "output_type": "execute_result"
    }
   ],
   "source": [
    "s = \"I like python. I like java. I like php.\"\n",
    "s.startswith('I')"
   ]
  },
  {
   "cell_type": "code",
   "execution_count": 79,
   "id": "b26cb3fb",
   "metadata": {},
   "outputs": [
    {
     "data": {
      "text/plain": [
       "False"
      ]
     },
     "execution_count": 79,
     "metadata": {},
     "output_type": "execute_result"
    }
   ],
   "source": [
    "s = \"I like python. I like java. I like php.\"\n",
    "s.endswith('I')"
   ]
  },
  {
   "cell_type": "code",
   "execution_count": 80,
   "id": "ca43dd09",
   "metadata": {},
   "outputs": [
    {
     "data": {
      "text/plain": [
       "6"
      ]
     },
     "execution_count": 80,
     "metadata": {},
     "output_type": "execute_result"
    }
   ],
   "source": [
    "len(\"I like\")"
   ]
  },
  {
   "cell_type": "code",
   "execution_count": 81,
   "id": "9931eab0",
   "metadata": {},
   "outputs": [
    {
     "data": {
      "text/plain": [
       "7"
      ]
     },
     "execution_count": 81,
     "metadata": {},
     "output_type": "execute_result"
    }
   ],
   "source": [
    "s.find('python')"
   ]
  },
  {
   "cell_type": "code",
   "execution_count": 82,
   "id": "dc6c25f2",
   "metadata": {},
   "outputs": [
    {
     "data": {
      "text/plain": [
       "'I LIKE PYTHON. I LIKE JAVA. I LIKE PHP.'"
      ]
     },
     "execution_count": 82,
     "metadata": {},
     "output_type": "execute_result"
    }
   ],
   "source": [
    "s.upper()"
   ]
  },
  {
   "cell_type": "code",
   "execution_count": 83,
   "id": "95ec1a75",
   "metadata": {},
   "outputs": [
    {
     "data": {
      "text/plain": [
       "'I Like Python. I Like Java. I Like Php.'"
      ]
     },
     "execution_count": 83,
     "metadata": {},
     "output_type": "execute_result"
    }
   ],
   "source": [
    "s.title()"
   ]
  },
  {
   "cell_type": "code",
   "execution_count": 84,
   "id": "915d23c6",
   "metadata": {},
   "outputs": [
    {
     "data": {
      "text/plain": [
       "1"
      ]
     },
     "execution_count": 84,
     "metadata": {},
     "output_type": "execute_result"
    }
   ],
   "source": [
    "s.count('python')"
   ]
  },
  {
   "cell_type": "markdown",
   "id": "d703a0b3",
   "metadata": {},
   "source": [
    "# 输入和输出"
   ]
  },
  {
   "cell_type": "code",
   "execution_count": 85,
   "id": "adf35f37",
   "metadata": {},
   "outputs": [
    {
     "name": "stdout",
     "output_type": "stream",
     "text": [
      "How old are you?\n",
      "19\n",
      "How tall are you?\n",
      "168\n",
      "How much do you weigh55\n",
      "So,you're 19 years old, 168 meters tall and 55 kg heavy.\n"
     ]
    }
   ],
   "source": [
    "age = input(\"How old are you?\\n\")\n",
    "height = input(\"How tall are you?\\n\")\n",
    "weight = input(\"How much do you weigh\")\n",
    "\n",
    "print(\"So,you're %s years old, %s meters tall and %s kg heavy.\" % (age,height,weight))"
   ]
  },
  {
   "cell_type": "markdown",
   "id": "b4359331",
   "metadata": {},
   "source": [
    "# 基本数据结构\n",
    "### 四种容器类型:\n",
    "1. List\n",
    "2. Tuple\n",
    "3. Dictonary\n",
    "4. Set"
   ]
  },
  {
   "cell_type": "markdown",
   "id": "6a4d0aed",
   "metadata": {},
   "source": [
    "## List \n",
    "在数据结构中，list是一种有序、可变的序列容器，它具有以下特点：\n",
    "\n",
    "有序性：list中的元素按照它们在列表中的位置存储，并且可以根据它们在列表中的位置进行访问。\n",
    "\n",
    "可变性：list中的元素可以随时被增加、删除、修改和替换，因此列表的长度可以随意改变。\n",
    "\n",
    "可重复性：list中的元素可以重复出现，即允许列表中包含相同的元素。\n",
    "\n",
    "支持不同类型的元素：list中可以存储不同类型的元素，包括数字、字符串、元组、列表、字典等。\n"
   ]
  },
  {
   "cell_type": "code",
   "execution_count": 86,
   "id": "7ce96dc5",
   "metadata": {},
   "outputs": [
    {
     "data": {
      "text/plain": [
       "[31, 28, 31, 30, 31, 30, 31, 31, 30, 31, 30, 31]"
      ]
     },
     "execution_count": 86,
     "metadata": {},
     "output_type": "execute_result"
    }
   ],
   "source": [
    "days_in_month = [31,28,31,30,31,30,31,31,30,31,30,31]\n",
    "days_in_month"
   ]
  },
  {
   "cell_type": "code",
   "execution_count": 87,
   "id": "f7a5b7cd",
   "metadata": {},
   "outputs": [
    {
     "data": {
      "text/plain": [
       "28"
      ]
     },
     "execution_count": 87,
     "metadata": {},
     "output_type": "execute_result"
    }
   ],
   "source": [
    "#list运用的一个小例子\n",
    "def how_many_days(month):\n",
    "    days_in_month = [0,31,28,31,30,31,30,31,31,30,31,30,31] #这里有个小hack，把0放开头，我们就不需要根据index-1去推算了\n",
    "    return days_in_month[month]\n",
    "\n",
    "#二月有多少天\n",
    "how_many_days(2)"
   ]
  },
  {
   "cell_type": "code",
   "execution_count": 88,
   "id": "a8e09b15",
   "metadata": {},
   "outputs": [
    {
     "data": {
      "text/plain": [
       "[1, 2, 3, 'a', True]"
      ]
     },
     "execution_count": 88,
     "metadata": {},
     "output_type": "execute_result"
    }
   ],
   "source": [
    "#list中不仅可以放int，还可以放其他元素\n",
    "my_list = [1,2,3,'a',True]\n",
    "my_list"
   ]
  },
  {
   "cell_type": "markdown",
   "id": "a0aea3fd",
   "metadata": {},
   "source": [
    "### Nested List 嵌套列表"
   ]
  },
  {
   "cell_type": "code",
   "execution_count": 89,
   "id": "d1470a20",
   "metadata": {},
   "outputs": [
    {
     "name": "stdout",
     "output_type": "stream",
     "text": [
      "[['xx', 19], ['dd', 20], ['kk', 21]]\n",
      "['xx', 19]\n"
     ]
    }
   ],
   "source": [
    "dal_number = [['xx',19],['dd',20],['kk',21]]\n",
    "print(dal_number)\n",
    "print(dal_number[0])"
   ]
  },
  {
   "cell_type": "markdown",
   "id": "5be3e3b8",
   "metadata": {},
   "source": [
    "### 创建list"
   ]
  },
  {
   "cell_type": "code",
   "execution_count": 90,
   "id": "86a838bb",
   "metadata": {},
   "outputs": [
    {
     "data": {
      "text/plain": [
       "[]"
      ]
     },
     "execution_count": 90,
     "metadata": {},
     "output_type": "execute_result"
    }
   ],
   "source": [
    "empty_list = []\n",
    "empty_list"
   ]
  },
  {
   "cell_type": "code",
   "execution_count": 91,
   "id": "f59e5f9a",
   "metadata": {},
   "outputs": [
    {
     "name": "stdout",
     "output_type": "stream",
     "text": [
      "[]\n"
     ]
    },
    {
     "data": {
      "text/plain": [
       "list"
      ]
     },
     "execution_count": 91,
     "metadata": {},
     "output_type": "execute_result"
    }
   ],
   "source": [
    "another_empty_list = list() #Instance(实例化) = constructor（构造方法）\n",
    "# 上面涉及到的概念就类似于：人有四肢、头、手、脚。这是一个比较抽象的概念。我们可以把这个概念具体化成一个具体的人比如张三、李四。\n",
    "# 抽象概念是构造方法，实例是具体例子。\n",
    "print(another_empty_list)\n",
    "type(another_empty_list)"
   ]
  },
  {
   "cell_type": "code",
   "execution_count": 92,
   "id": "aa6482e3",
   "metadata": {},
   "outputs": [
    {
     "data": {
      "text/plain": [
       "['0', 'Monday', 'Tuesday', 'Wednesday', 'Thursday', 'Friday']"
      ]
     },
     "execution_count": 92,
     "metadata": {},
     "output_type": "execute_result"
    }
   ],
   "source": [
    "weekday = '0,Monday,Tuesday,Wednesday,Thursday,Friday'\n",
    "weekdays = weekday.split(',')\n",
    "weekdays"
   ]
  },
  {
   "cell_type": "code",
   "execution_count": 93,
   "id": "86d5cc0e",
   "metadata": {},
   "outputs": [
    {
     "data": {
      "text/plain": [
       "'0'"
      ]
     },
     "execution_count": 93,
     "metadata": {},
     "output_type": "execute_result"
    },
    {
     "data": {
      "text/plain": [
       "['Monday', 'Tuesday']"
      ]
     },
     "execution_count": 93,
     "metadata": {},
     "output_type": "execute_result"
    }
   ],
   "source": [
    "weekdays[0]\n",
    "weekdays[1:3]"
   ]
  },
  {
   "cell_type": "code",
   "execution_count": 94,
   "id": "3e6aecff",
   "metadata": {},
   "outputs": [
    {
     "data": {
      "text/plain": [
       "['Sunday', 'Monday', 'Tuesday', 'Wednesday', 'Thursday', 'Friday']"
      ]
     },
     "execution_count": 94,
     "metadata": {},
     "output_type": "execute_result"
    }
   ],
   "source": [
    "# 修改第一个值为Sunday\n",
    "weekdays[0] = 'Sunday'\n",
    "weekdays"
   ]
  },
  {
   "cell_type": "markdown",
   "id": "d2cf096e",
   "metadata": {},
   "source": [
    "### 删除"
   ]
  },
  {
   "cell_type": "code",
   "execution_count": 95,
   "id": "2e2659d5",
   "metadata": {},
   "outputs": [
    {
     "data": {
      "text/plain": [
       "['Monday', 'Tuesday', 'Wednesday', 'Thursday', 'Friday']"
      ]
     },
     "execution_count": 95,
     "metadata": {},
     "output_type": "execute_result"
    }
   ],
   "source": [
    "del weekdays[0]\n",
    "weekdays"
   ]
  },
  {
   "cell_type": "code",
   "execution_count": 96,
   "id": "96247700",
   "metadata": {},
   "outputs": [
    {
     "data": {
      "text/plain": [
       "['a', 'b', 'c']"
      ]
     },
     "execution_count": 96,
     "metadata": {},
     "output_type": "execute_result"
    }
   ],
   "source": [
    "al = ['a','b','c','d','e','f','g']\n",
    "del al[3:]\n",
    "al"
   ]
  },
  {
   "cell_type": "code",
   "execution_count": 97,
   "id": "7fb5c901",
   "metadata": {},
   "outputs": [
    {
     "data": {
      "text/plain": [
       "['Monday', 'Tuesday', 'Wednesday', 'Thursday']"
      ]
     },
     "execution_count": 97,
     "metadata": {},
     "output_type": "execute_result"
    }
   ],
   "source": [
    "weekdays.remove('Friday')\n",
    "weekdays"
   ]
  },
  {
   "cell_type": "code",
   "execution_count": 98,
   "id": "a9215b36",
   "metadata": {},
   "outputs": [
    {
     "data": {
      "text/plain": [
       "False"
      ]
     },
     "execution_count": 98,
     "metadata": {},
     "output_type": "execute_result"
    }
   ],
   "source": [
    "'Friday' in weekdays"
   ]
  },
  {
   "cell_type": "code",
   "execution_count": 99,
   "id": "4aa9675e",
   "metadata": {},
   "outputs": [
    {
     "data": {
      "text/plain": [
       "True"
      ]
     },
     "execution_count": 99,
     "metadata": {},
     "output_type": "execute_result"
    }
   ],
   "source": [
    "weekdays = ['Monday', 'Tuesday', 'Wednesday', 'Thursday', 'Friday']\n",
    "'Friday' in weekdays"
   ]
  },
  {
   "cell_type": "markdown",
   "id": "be36f648",
   "metadata": {},
   "source": [
    "### 添加"
   ]
  },
  {
   "cell_type": "code",
   "execution_count": 100,
   "id": "6f8acfd3",
   "metadata": {},
   "outputs": [
    {
     "data": {
      "text/plain": [
       "['Monday', 'Tuesday', 'Wednesday', 'Thursday', 'Friday']"
      ]
     },
     "execution_count": 100,
     "metadata": {},
     "output_type": "execute_result"
    }
   ],
   "source": [
    "weekdays = ['Monday', 'Tuesday', 'Wednesday', 'Thursday']\n",
    "weekdays.append('Friday') #append在list结尾追加\n",
    "weekdays"
   ]
  },
  {
   "cell_type": "code",
   "execution_count": 101,
   "id": "93a8e724",
   "metadata": {},
   "outputs": [
    {
     "data": {
      "text/plain": [
       "['Monday', 'Tuesday', 'Wednesday', 'Thursday', 'Friday', 'Saturday', 'Sunday']"
      ]
     },
     "execution_count": 101,
     "metadata": {},
     "output_type": "execute_result"
    }
   ],
   "source": [
    "weekend = ['Saturday','Sunday']\n",
    "weekdays = weekdays + weekend\n",
    "weekdays"
   ]
  },
  {
   "cell_type": "code",
   "execution_count": 102,
   "id": "179590c3",
   "metadata": {},
   "outputs": [
    {
     "data": {
      "text/plain": [
       "['add',\n",
       " 'Monday',\n",
       " 'Tuesday',\n",
       " 'Wednesday',\n",
       " 'Thursday',\n",
       " 'Friday',\n",
       " 'Saturday',\n",
       " 'Sunday']"
      ]
     },
     "execution_count": 102,
     "metadata": {},
     "output_type": "execute_result"
    }
   ],
   "source": [
    "weekdays.insert(0,'add')\n",
    "weekdays"
   ]
  },
  {
   "cell_type": "code",
   "execution_count": 103,
   "id": "cb7c6736",
   "metadata": {},
   "outputs": [
    {
     "data": {
      "text/plain": [
       "5"
      ]
     },
     "execution_count": 103,
     "metadata": {},
     "output_type": "execute_result"
    }
   ],
   "source": [
    "weekdays.index('Friday')"
   ]
  },
  {
   "cell_type": "code",
   "execution_count": 104,
   "id": "e2695b2b",
   "metadata": {},
   "outputs": [
    {
     "data": {
      "text/plain": [
       "True"
      ]
     },
     "execution_count": 104,
     "metadata": {},
     "output_type": "execute_result"
    }
   ],
   "source": [
    "'Friday' not in weekend"
   ]
  },
  {
   "cell_type": "markdown",
   "id": "9d815a2d",
   "metadata": {},
   "source": [
    "### pop"
   ]
  },
  {
   "cell_type": "code",
   "execution_count": 105,
   "id": "caf3968c",
   "metadata": {},
   "outputs": [
    {
     "data": {
      "text/plain": [
       "'Sunday'"
      ]
     },
     "execution_count": 105,
     "metadata": {},
     "output_type": "execute_result"
    }
   ],
   "source": [
    "weekdays =['Monday', 'Tuesday', 'Wednesday', 'Thursday', 'Friday', 'Saturday', 'Sunday']\n",
    "last_day = weekdays.pop()\n",
    "last_day"
   ]
  },
  {
   "cell_type": "code",
   "execution_count": 106,
   "id": "fcaabf8f",
   "metadata": {},
   "outputs": [
    {
     "data": {
      "text/plain": [
       "'Monday'"
      ]
     },
     "execution_count": 106,
     "metadata": {},
     "output_type": "execute_result"
    }
   ],
   "source": [
    "first_day = weekdays.pop(0)\n",
    "first_day"
   ]
  },
  {
   "cell_type": "markdown",
   "id": "bb768eff",
   "metadata": {},
   "source": [
    "### sort\n",
    "- sort() 返回的是数组本身\n",
    "- sorted() 返回的是数组的备份"
   ]
  },
  {
   "cell_type": "code",
   "execution_count": 107,
   "id": "13ca0e61",
   "metadata": {},
   "outputs": [
    {
     "data": {
      "text/plain": [
       "[1, 3, 4, 6, 9]"
      ]
     },
     "execution_count": 107,
     "metadata": {},
     "output_type": "execute_result"
    }
   ],
   "source": [
    "nums = [1,4,3,9,6]\n",
    "sorted_nums = sorted(nums) #sorted() 返回的是数组的备份,所以需要新开一个变量名承载\n",
    "sorted_nums"
   ]
  },
  {
   "cell_type": "code",
   "execution_count": 108,
   "id": "3e3f2c4c",
   "metadata": {},
   "outputs": [
    {
     "data": {
      "text/plain": [
       "[1, 3, 4, 6, 9]"
      ]
     },
     "execution_count": 108,
     "metadata": {},
     "output_type": "execute_result"
    }
   ],
   "source": [
    "nums.sort()\n",
    "nums #sort() 返回的是数组本身，直接输出原数组"
   ]
  },
  {
   "cell_type": "code",
   "execution_count": 109,
   "id": "65605975",
   "metadata": {},
   "outputs": [
    {
     "data": {
      "text/plain": [
       "[9, 6, 4, 3, 1]"
      ]
     },
     "execution_count": 109,
     "metadata": {},
     "output_type": "execute_result"
    }
   ],
   "source": [
    "nums.sort(reverse=True)\n",
    "nums"
   ]
  },
  {
   "cell_type": "code",
   "execution_count": 110,
   "id": "a2e03f6f",
   "metadata": {},
   "outputs": [
    {
     "data": {
      "text/plain": [
       "['3', '5', '7', '8', '9', 'd', 'r', 'x', 'y', 'z']"
      ]
     },
     "execution_count": 110,
     "metadata": {},
     "output_type": "execute_result"
    }
   ],
   "source": [
    "sorted(\"93785xzryd\")"
   ]
  },
  {
   "cell_type": "code",
   "execution_count": 111,
   "id": "ff842d95",
   "metadata": {},
   "outputs": [
    {
     "data": {
      "text/plain": [
       "['A', 'B', 'C', 'D', 'X', 'Y', 'Z']"
      ]
     },
     "execution_count": 111,
     "metadata": {},
     "output_type": "execute_result"
    },
    {
     "data": {
      "text/plain": [
       "list"
      ]
     },
     "execution_count": 111,
     "metadata": {},
     "output_type": "execute_result"
    },
    {
     "data": {
      "text/plain": [
       "'ABCDXYZ'"
      ]
     },
     "execution_count": 111,
     "metadata": {},
     "output_type": "execute_result"
    },
    {
     "data": {
      "text/plain": [
       "str"
      ]
     },
     "execution_count": 111,
     "metadata": {},
     "output_type": "execute_result"
    }
   ],
   "source": [
    "x = sorted('ABCDZYX')\n",
    "x\n",
    "type(x)\n",
    "y =''.join(sorted('ABCDZYX'))\n",
    "y\n",
    "type(y)"
   ]
  },
  {
   "cell_type": "markdown",
   "id": "4c46afc6",
   "metadata": {},
   "source": [
    "### Assign Vs Copy"
   ]
  },
  {
   "cell_type": "code",
   "execution_count": 112,
   "id": "55aaf29a",
   "metadata": {},
   "outputs": [
    {
     "data": {
      "text/plain": [
       "[1, 2, 3]"
      ]
     },
     "execution_count": 112,
     "metadata": {},
     "output_type": "execute_result"
    },
    {
     "data": {
      "text/plain": [
       "[1, 2, 3]"
      ]
     },
     "execution_count": 112,
     "metadata": {},
     "output_type": "execute_result"
    }
   ],
   "source": [
    "# assign\n",
    "a = [1,2,3]\n",
    "b = a #相当于把b指向a的地址，a变了b也会跟着变\n",
    "a\n",
    "b"
   ]
  },
  {
   "cell_type": "code",
   "execution_count": 113,
   "id": "bd2f7ac8",
   "metadata": {},
   "outputs": [
    {
     "data": {
      "text/plain": [
       "[9, 2, 3]"
      ]
     },
     "execution_count": 113,
     "metadata": {},
     "output_type": "execute_result"
    }
   ],
   "source": [
    "a[0] = 9\n",
    "a"
   ]
  },
  {
   "cell_type": "code",
   "execution_count": 114,
   "id": "f75c4afd",
   "metadata": {},
   "outputs": [
    {
     "data": {
      "text/plain": [
       "[9, 2, 3]"
      ]
     },
     "execution_count": 114,
     "metadata": {},
     "output_type": "execute_result"
    }
   ],
   "source": [
    "b"
   ]
  },
  {
   "cell_type": "code",
   "execution_count": 115,
   "id": "3815f26b",
   "metadata": {},
   "outputs": [
    {
     "name": "stdout",
     "output_type": "stream",
     "text": [
      "a= [1, 2, 3]\n",
      "b= [1, 2, 3]\n",
      "c= [1, 2, 3]\n",
      "d= [1, 2, 3]\n",
      "e= list[[1, 2, 3]]\n"
     ]
    }
   ],
   "source": [
    "#copy,copy是改的数组的备份\n",
    "a = [1,2,3]\n",
    "b = a\n",
    "c = a.copy()\n",
    "d = a[:] #这种形式也是一种copy\n",
    "e = list[a]\n",
    "print(\"a=\",a)\n",
    "print(\"b=\",b)\n",
    "print(\"c=\",c)\n",
    "print(\"d=\",d)\n",
    "print(\"e=\",e)"
   ]
  },
  {
   "cell_type": "code",
   "execution_count": 116,
   "id": "52c61590",
   "metadata": {},
   "outputs": [
    {
     "name": "stdout",
     "output_type": "stream",
     "text": [
      "a= [9, 2, 3]\n",
      "b= [9, 2, 3]\n",
      "c= [1, 2, 3]\n",
      "d= [1, 2, 3]\n",
      "e= list[[9, 2, 3]]\n"
     ]
    }
   ],
   "source": [
    "a[0] = 9\n",
    "print(\"a=\",a)\n",
    "print(\"b=\",b)\n",
    "print(\"c=\",c)\n",
    "print(\"d=\",d)\n",
    "print(\"e=\",e)"
   ]
  },
  {
   "cell_type": "markdown",
   "id": "6c518abb",
   "metadata": {},
   "source": [
    "## Tuple\n",
    "\n",
    "Tuple 的特点如下：\n",
    "\n",
    "不可变性：Tuple 中的元素**不**可被修改、添加或删除，因此在创建后不能对其进行更改。\n",
    "\n",
    "有序性：Tuple 中的元素按照顺序存储，并且**可以使用索引**进行访问。\n",
    "\n",
    "可以包含任意类型的数据：Tuple 中可以存储任意类型的数据，包括数字、字符串、列表、字典等等。\n",
    "\n",
    "可以嵌套：Tuple 可以包含其他的 Tuple，从而形成嵌套结构。\n",
    "\n",
    "可以作为字典的 key：由于 Tuple 具有不可变性，因此可以作为字典的 key，而列表则不行。\n",
    "\n",
    "通常用于存储异构数据：Tuple 通常用于存储具有不同类型的数据，而列表则更适合存储同类型的数据。\n",
    "\n",
    "总的来说，Tuple 的不可变性和有序性使其在某些情况下比列表更加方便和高效。但是，由于其不可变性，Tuple **无法进行修改**，因此在需要频繁修改数据时，使用列表可能更加合适。"
   ]
  },
  {
   "cell_type": "markdown",
   "id": "8492c940",
   "metadata": {},
   "source": [
    "### Create"
   ]
  },
  {
   "cell_type": "code",
   "execution_count": 117,
   "id": "81ed4cc1",
   "metadata": {},
   "outputs": [
    {
     "data": {
      "text/plain": [
       "()"
      ]
     },
     "execution_count": 117,
     "metadata": {},
     "output_type": "execute_result"
    }
   ],
   "source": [
    "empty_tuple = ()\n",
    "empty_tuple"
   ]
  },
  {
   "cell_type": "code",
   "execution_count": 118,
   "id": "e5b658a9",
   "metadata": {},
   "outputs": [
    {
     "data": {
      "text/plain": [
       "(12, 34, 56)"
      ]
     },
     "execution_count": 118,
     "metadata": {},
     "output_type": "execute_result"
    },
    {
     "data": {
      "text/plain": [
       "tuple"
      ]
     },
     "execution_count": 118,
     "metadata": {},
     "output_type": "execute_result"
    }
   ],
   "source": [
    "(12,34,56)\n",
    "type((12,34,56))"
   ]
  },
  {
   "cell_type": "code",
   "execution_count": 119,
   "id": "7dd3ae40",
   "metadata": {},
   "outputs": [
    {
     "name": "stdout",
     "output_type": "stream",
     "text": [
      "age = 19 \n",
      "height = 168 \n",
      "gender =  female\n"
     ]
    }
   ],
   "source": [
    "my_tuple = (19,168,\"female\")\n",
    "age, height, gender = my_tuple\n",
    "print(\"age =\",age,\"\\nheight =\",height,\"\\ngender = \",gender)"
   ]
  },
  {
   "cell_type": "code",
   "execution_count": 120,
   "id": "d14c206a",
   "metadata": {},
   "outputs": [
    {
     "data": {
      "text/plain": [
       "2"
      ]
     },
     "execution_count": 120,
     "metadata": {},
     "output_type": "execute_result"
    },
    {
     "data": {
      "text/plain": [
       "1"
      ]
     },
     "execution_count": 120,
     "metadata": {},
     "output_type": "execute_result"
    }
   ],
   "source": [
    "a = 1\n",
    "b = 2\n",
    "a,b = b,a #参考上面的例子，这里调用的其实是tuple\n",
    "a\n",
    "b"
   ]
  },
  {
   "cell_type": "markdown",
   "id": "f6fb20d2",
   "metadata": {},
   "source": [
    "Tuple 和 List 的主要区别如下：\n",
    "\n",
    "不可变性：Tuple 是不可变的，也就是说，一旦创建后，其中的元素就不能被修改、添加或删除。而 List 是可变的，可以通过索引来修改、添加或删除其中的元素。\n",
    "\n",
    "语法：Tuple 使用小括号 () 来创建，而 List 使用方括号 [] 来创建。\n",
    "\n",
    "性能：由于 Tuple 是不可变的，因此在处理大量数据时，Tuple 的性能要优于 List。而 List 在频繁修改数据时，可能会**造成内存空间的浪费**和性能下降。\n",
    "\n",
    "应用场景：Tuple 通常用于存储异构数据，即不同类型的数据，而 List 则更适合存储同类型的数据。"
   ]
  },
  {
   "cell_type": "markdown",
   "id": "d2504978",
   "metadata": {},
   "source": [
    "## Dictionary\n",
    "Dictionary（字典）是一个**可变的、无序的**键值对集合，其中每个键（key）都唯一对应一个值（value），可以使用键来访问相应的值。注意**字典不能用index（下标）访问**。\n",
    "\n",
    "Dictionary 的特点如下：\n",
    "\n",
    "无序性：Dictionary 中的键值对是无序的，即插入键值对的顺序不一定等同于其被访问时的顺序。\n",
    "\n",
    "可变性：Dictionary 中的键值对可以被添加、删除或修改。\n",
    "\n",
    "键的唯一性：Dictionary 中每个键都是唯一的，同一个键对应的值会被后面的值覆盖。\n",
    "\n",
    "键可以是任意不可变类型：Dictionary 中的键可以是任意不可变类型，例如数字、字符串、元组等等，而值可以是任意类型，包括数字、字符串、列表、字典等等。\n",
    "\n",
    "高效性：由于 Dictionary 内部使用**哈希表**来实现键值对的存储，因此在查找、添加、删除等操作上具有很高的效率。\n",
    "\n",
    "可嵌套性：Dictionary 中的值可以是另一个 Dictionary，从而形成嵌套的结构。"
   ]
  },
  {
   "cell_type": "markdown",
   "id": "261b954d",
   "metadata": {},
   "source": [
    "### Create"
   ]
  },
  {
   "cell_type": "code",
   "execution_count": 121,
   "id": "2aa4f856",
   "metadata": {},
   "outputs": [
    {
     "data": {
      "text/plain": [
       "{}"
      ]
     },
     "execution_count": 121,
     "metadata": {},
     "output_type": "execute_result"
    }
   ],
   "source": [
    "empty_dic = {}\n",
    "empty_dic"
   ]
  },
  {
   "cell_type": "code",
   "execution_count": 122,
   "id": "96d70d60",
   "metadata": {},
   "outputs": [
    {
     "data": {
      "text/plain": [
       "{'size': 'medium',\n",
       " 'type': 'pepperoni',\n",
       " 'crust': 'thick',\n",
       " 'qty': 1,\n",
       " 'deliver': True}"
      ]
     },
     "execution_count": 122,
     "metadata": {},
     "output_type": "execute_result"
    }
   ],
   "source": [
    "pizza = {\n",
    "    \"size\":\"medium\",\n",
    "    \"type\":\"pepperoni\",\n",
    "    \"crust\":\"thick\",\n",
    "    \"qty\":1,\n",
    "    \"deliver\":True, \n",
    "}\n",
    "pizza"
   ]
  },
  {
   "cell_type": "code",
   "execution_count": 123,
   "id": "0747bf33",
   "metadata": {},
   "outputs": [
    {
     "data": {
      "text/plain": [
       "'pepperoni'"
      ]
     },
     "execution_count": 123,
     "metadata": {},
     "output_type": "execute_result"
    }
   ],
   "source": [
    "pizza[\"type\"]"
   ]
  },
  {
   "cell_type": "code",
   "execution_count": 124,
   "id": "b2e7b4a8",
   "metadata": {},
   "outputs": [
    {
     "data": {
      "text/plain": [
       "dict_keys(['size', 'type', 'crust', 'qty', 'deliver'])"
      ]
     },
     "execution_count": 124,
     "metadata": {},
     "output_type": "execute_result"
    },
    {
     "data": {
      "text/plain": [
       "dict_values(['medium', 'pepperoni', 'thick', 1, True])"
      ]
     },
     "execution_count": 124,
     "metadata": {},
     "output_type": "execute_result"
    },
    {
     "data": {
      "text/plain": [
       "dict_items([('size', 'medium'), ('type', 'pepperoni'), ('crust', 'thick'), ('qty', 1), ('deliver', True)])"
      ]
     },
     "execution_count": 124,
     "metadata": {},
     "output_type": "execute_result"
    }
   ],
   "source": [
    "pizza.keys()\n",
    "pizza.values()\n",
    "pizza.items()"
   ]
  },
  {
   "cell_type": "markdown",
   "id": "a3bb1560",
   "metadata": {},
   "source": [
    "### update"
   ]
  },
  {
   "cell_type": "code",
   "execution_count": 125,
   "id": "019b686d",
   "metadata": {},
   "outputs": [
    {
     "data": {
      "text/plain": [
       "{'size': 'medium',\n",
       " 'type': 'pepperoni',\n",
       " 'crust': 'thick',\n",
       " 'qty': 1,\n",
       " 'deliver': True,\n",
       " 'topping': 'cheese'}"
      ]
     },
     "execution_count": 125,
     "metadata": {},
     "output_type": "execute_result"
    }
   ],
   "source": [
    "pizza['topping'] = 'cheese'\n",
    "pizza"
   ]
  },
  {
   "cell_type": "code",
   "execution_count": 126,
   "id": "a5298102",
   "metadata": {},
   "outputs": [
    {
     "data": {
      "text/plain": [
       "{'size': 'large',\n",
       " 'type': 'pepperoni',\n",
       " 'crust': 'thick',\n",
       " 'qty': 1,\n",
       " 'deliver': True}"
      ]
     },
     "execution_count": 126,
     "metadata": {},
     "output_type": "execute_result"
    }
   ],
   "source": [
    "# key是唯一的\n",
    "pizza = {\n",
    "    \"size\":\"medium\",\n",
    "    \"size\":\"large\", #重复了，key是唯一的不能重复，所以这里的值会覆盖上面的值\n",
    "    \"type\":\"pepperoni\",\n",
    "    \"crust\":\"thick\",\n",
    "    \"qty\":1,\n",
    "    \"deliver\":True,\n",
    "}\n",
    "pizza"
   ]
  },
  {
   "cell_type": "markdown",
   "id": "9cb19c7e",
   "metadata": {},
   "source": [
    "### Remove"
   ]
  },
  {
   "cell_type": "code",
   "execution_count": 127,
   "id": "db40d77f",
   "metadata": {},
   "outputs": [
    {
     "data": {
      "text/plain": [
       "{'type': 'pepperoni', 'crust': 'thick', 'qty': 1, 'deliver': True}"
      ]
     },
     "execution_count": 127,
     "metadata": {},
     "output_type": "execute_result"
    }
   ],
   "source": [
    "del pizza['size']\n",
    "pizza"
   ]
  },
  {
   "cell_type": "code",
   "execution_count": 128,
   "id": "563f26fd",
   "metadata": {},
   "outputs": [
    {
     "data": {
      "text/plain": [
       "{}"
      ]
     },
     "execution_count": 128,
     "metadata": {},
     "output_type": "execute_result"
    }
   ],
   "source": [
    "pizza.clear()\n",
    "pizza"
   ]
  },
  {
   "cell_type": "markdown",
   "id": "7b7fa430",
   "metadata": {},
   "source": [
    "## Set\n",
    "Set（集合）是一个**无序的、不重复的**元素集合，其中的元素可以是任意类型，包括数字、字符串、元组等等。Set也**不能通过index（下标）访问**。\n",
    "\n",
    "Set 的特点如下：\n",
    "\n",
    "无序性：Set 中的元素是无序的，即插入元素的顺序不一定等同于其被访问时的顺序。\n",
    "\n",
    "唯一性：Set 中的元素不重复，即同一个元素只会出现一次。\n",
    "\n",
    "可变性：Set 是可变的，可以向 Set 中添加或删除元素。\n",
    "\n",
    "可以使用数学运算：Set 支持并集、交集、差集等基本数学运算，可以方便地进行集合运算。\n",
    "\n",
    "可以作为字典的 key：由于 Set 具有唯一性，因此可以作为字典的 key，而**列表则不行**。"
   ]
  },
  {
   "cell_type": "code",
   "execution_count": 129,
   "id": "7306fb19",
   "metadata": {},
   "outputs": [
    {
     "data": {
      "text/plain": [
       "set()"
      ]
     },
     "execution_count": 129,
     "metadata": {},
     "output_type": "execute_result"
    }
   ],
   "source": [
    "empty_set = set() #只能通过实例化的方式创建空set，如果用{}，会被默认为是字典\n",
    "empty_set"
   ]
  },
  {
   "cell_type": "code",
   "execution_count": 130,
   "id": "b07476ba",
   "metadata": {},
   "outputs": [
    {
     "data": {
      "text/plain": [
       "{2, 3, 4, 5}"
      ]
     },
     "execution_count": 130,
     "metadata": {},
     "output_type": "execute_result"
    }
   ],
   "source": [
    "# set 具有唯一性\n",
    "even_set= {2,2,3,4,5} \n",
    "even_set"
   ]
  },
  {
   "cell_type": "code",
   "execution_count": 131,
   "id": "23ec643d",
   "metadata": {},
   "outputs": [
    {
     "data": {
      "text/plain": [
       "{4, 6, 7, 8}"
      ]
     },
     "execution_count": 131,
     "metadata": {},
     "output_type": "execute_result"
    }
   ],
   "source": [
    "num_set = {7,6,4,8}\n",
    "num_set"
   ]
  },
  {
   "cell_type": "code",
   "execution_count": 132,
   "id": "f63a5928",
   "metadata": {},
   "outputs": [
    {
     "data": {
      "text/plain": [
       "{4}"
      ]
     },
     "execution_count": 132,
     "metadata": {},
     "output_type": "execute_result"
    }
   ],
   "source": [
    "#与\n",
    "num_set & even_set"
   ]
  },
  {
   "cell_type": "code",
   "execution_count": 133,
   "id": "1f053d3f",
   "metadata": {},
   "outputs": [
    {
     "data": {
      "text/plain": [
       "{2, 3, 4, 5, 6, 7, 8}"
      ]
     },
     "execution_count": 133,
     "metadata": {},
     "output_type": "execute_result"
    }
   ],
   "source": [
    "#或\n",
    "num_set | even_set"
   ]
  },
  {
   "cell_type": "code",
   "execution_count": 134,
   "id": "456af1c2",
   "metadata": {},
   "outputs": [
    {
     "data": {
      "text/plain": [
       "{6, 7, 8}"
      ]
     },
     "execution_count": 134,
     "metadata": {},
     "output_type": "execute_result"
    }
   ],
   "source": [
    "num_set - even_set"
   ]
  },
  {
   "cell_type": "code",
   "execution_count": 135,
   "id": "1edb252f",
   "metadata": {},
   "outputs": [
    {
     "data": {
      "text/plain": [
       "{2, 3, 5, 6, 7, 8}"
      ]
     },
     "execution_count": 135,
     "metadata": {},
     "output_type": "execute_result"
    }
   ],
   "source": [
    "# 异或\n",
    "num_set ^ even_set"
   ]
  },
  {
   "cell_type": "markdown",
   "id": "0090ab24",
   "metadata": {},
   "source": [
    "## Convert into List"
   ]
  },
  {
   "cell_type": "code",
   "execution_count": 136,
   "id": "970bcb92",
   "metadata": {},
   "outputs": [
    {
     "data": {
      "text/plain": [
       "['a', 'b', 'c', 'd', 'b', 'd']"
      ]
     },
     "execution_count": 136,
     "metadata": {},
     "output_type": "execute_result"
    }
   ],
   "source": [
    "list('abcdbd')"
   ]
  },
  {
   "cell_type": "code",
   "execution_count": 137,
   "id": "ad262f85",
   "metadata": {},
   "outputs": [
    {
     "data": {
      "text/plain": [
       "[2, 3, 4, 5]"
      ]
     },
     "execution_count": 137,
     "metadata": {},
     "output_type": "execute_result"
    }
   ],
   "source": [
    "list((2,3,4,5))"
   ]
  },
  {
   "cell_type": "code",
   "execution_count": 138,
   "id": "afd3ce24",
   "metadata": {},
   "outputs": [
    {
     "data": {
      "text/plain": [
       "['size', 'type']"
      ]
     },
     "execution_count": 138,
     "metadata": {},
     "output_type": "execute_result"
    }
   ],
   "source": [
    "# 字典转list，之会保留key\n",
    "list({\"size\":\"medium\",\n",
    "    \"type\":\"pepperoni\",})"
   ]
  },
  {
   "cell_type": "code",
   "execution_count": 139,
   "id": "e09cbf25",
   "metadata": {},
   "outputs": [
    {
     "data": {
      "text/plain": [
       "['medium', 'pepperoni']"
      ]
     },
     "execution_count": 139,
     "metadata": {},
     "output_type": "execute_result"
    }
   ],
   "source": [
    "# 把value转化为list\n",
    "list({\"size\":\"medium\",\n",
    "    \"type\":\"pepperoni\",}.values())"
   ]
  },
  {
   "cell_type": "code",
   "execution_count": 140,
   "id": "f593aba6",
   "metadata": {},
   "outputs": [
    {
     "data": {
      "text/plain": [
       "[3, 4, 5, 6]"
      ]
     },
     "execution_count": 140,
     "metadata": {},
     "output_type": "execute_result"
    }
   ],
   "source": [
    "list({3,4,5,6})"
   ]
  },
  {
   "cell_type": "code",
   "execution_count": 141,
   "id": "9a8b3827",
   "metadata": {},
   "outputs": [
    {
     "data": {
      "text/plain": [
       "[2, 3, 4, 5]"
      ]
     },
     "execution_count": 141,
     "metadata": {},
     "output_type": "execute_result"
    }
   ],
   "source": [
    "sorted(list((2,3,4,5)))"
   ]
  },
  {
   "cell_type": "code",
   "execution_count": 142,
   "id": "e18eca70",
   "metadata": {},
   "outputs": [
    {
     "data": {
      "text/plain": [
       "[('a', 'h'),\n",
       " ('b', 'i'),\n",
       " ('c', 'j'),\n",
       " ('d', 'k'),\n",
       " ('e', 'l'),\n",
       " ('f', 'm'),\n",
       " ('g', 'n')]"
      ]
     },
     "execution_count": 142,
     "metadata": {},
     "output_type": "execute_result"
    }
   ],
   "source": [
    "# zip会把数据转为对应的tuple\n",
    "s1 = 'abcdefg'\n",
    "s2 = 'hijklmn'\n",
    "d = list(zip(s1,s2))\n",
    "d"
   ]
  },
  {
   "cell_type": "code",
   "execution_count": 143,
   "id": "150d71c0",
   "metadata": {},
   "outputs": [
    {
     "data": {
      "text/plain": [
       "('a', 'b', 'c', 'd', 'e', 'f', 'g')"
      ]
     },
     "execution_count": 143,
     "metadata": {},
     "output_type": "execute_result"
    },
    {
     "data": {
      "text/plain": [
       "('h', 'i', 'j', 'k', 'l', 'm', 'n')"
      ]
     },
     "execution_count": 143,
     "metadata": {},
     "output_type": "execute_result"
    },
    {
     "data": {
      "text/plain": [
       "['a', 'b', 'c', 'd', 'e', 'f', 'g']"
      ]
     },
     "execution_count": 143,
     "metadata": {},
     "output_type": "execute_result"
    },
    {
     "data": {
      "text/plain": [
       "['h', 'i', 'j', 'k', 'l', 'm', 'n']"
      ]
     },
     "execution_count": 143,
     "metadata": {},
     "output_type": "execute_result"
    }
   ],
   "source": [
    "# unzip\n",
    "s3,s4 = zip(*d)\n",
    "s3\n",
    "s4\n",
    "list(s3)\n",
    "list(s4)"
   ]
  },
  {
   "cell_type": "code",
   "execution_count": 144,
   "id": "23e6b619",
   "metadata": {},
   "outputs": [
    {
     "data": {
      "text/plain": [
       "[('a', 'h'),\n",
       " ('b', 'i'),\n",
       " ('c', 'j'),\n",
       " ('d', 'k'),\n",
       " ('e', 'l'),\n",
       " ('f', 'm'),\n",
       " ('g', 'n')]"
      ]
     },
     "execution_count": 144,
     "metadata": {},
     "output_type": "execute_result"
    }
   ],
   "source": [
    "s1 = 'abcdefg'\n",
    "s2 = 'hijklmn'\n",
    "d = list(zip(s1,s2))\n",
    "d"
   ]
  },
  {
   "cell_type": "markdown",
   "id": "5f9e7543",
   "metadata": {},
   "source": [
    "# Immutable & Mutable 可变性\n",
    "immutable（不可被修改的数据类型有）：bool,int,float,tuple,str,frozenset\n",
    "\n",
    "mutable(可以增删改)：list,set,dict\n",
    "\n",
    "dict的key只能是immutable的数据类型，因为要保持唯一性。\n",
    "\n",
    "修改immutable的数据类型，一般是修改它的备份（copy）。"
   ]
  },
  {
   "cell_type": "markdown",
   "id": "8c4e9653",
   "metadata": {},
   "source": [
    "# Range\n",
    "range 通常返回immutable的数组。\n",
    "\n",
    "range() 函数可以有 1、2 或 3 个参数，分别表示开始、结束和步长（默认为 1）。它的语法如下：\n",
    "\n",
    "range(stop)\n",
    "\n",
    "range(start, stop[, step])\n",
    "\n",
    "stop：序列的结束值（不包含在序列中）。\n",
    "\n",
    "start：序列的起始值（包含在序列中），默认为 0。\n",
    "\n",
    "step：序列中相邻元素之间的步长（默认为 1）。\n"
   ]
  },
  {
   "cell_type": "code",
   "execution_count": 145,
   "id": "7f18ead5",
   "metadata": {},
   "outputs": [
    {
     "name": "stdout",
     "output_type": "stream",
     "text": [
      "Monday\n",
      "Tuesday\n",
      "Wednesday\n",
      "Thursday\n",
      "Friday\n"
     ]
    }
   ],
   "source": [
    "weekdays = ['Monday','Tuesday','Wednesday','Thursday','Friday']\n",
    "for i in range(len(weekdays)):\n",
    "    print(weekdays[i])"
   ]
  },
  {
   "cell_type": "code",
   "execution_count": 146,
   "id": "72b5c4ca",
   "metadata": {},
   "outputs": [
    {
     "name": "stdout",
     "output_type": "stream",
     "text": [
      "0\n",
      "1\n",
      "2\n",
      "3\n",
      "4\n",
      "5\n",
      "6\n",
      "7\n",
      "8\n",
      "9\n"
     ]
    }
   ],
   "source": [
    "for i in range(10):\n",
    "    print(i)\n",
    "    i = i - 1 #i 的赋值在for循环中没用，因为值会从range（）中得出"
   ]
  },
  {
   "cell_type": "code",
   "execution_count": 147,
   "id": "d8a54a7d",
   "metadata": {},
   "outputs": [
    {
     "name": "stdout",
     "output_type": "stream",
     "text": [
      "0\n",
      "1\n",
      "2\n",
      "3\n",
      "4\n"
     ]
    }
   ],
   "source": [
    "#用range关键字，返回的是index\n",
    "for i in range(len(weekdays)):\n",
    "    print(i)"
   ]
  },
  {
   "cell_type": "code",
   "execution_count": 148,
   "id": "f45f70c4",
   "metadata": {},
   "outputs": [
    {
     "name": "stdout",
     "output_type": "stream",
     "text": [
      "Monday\n",
      "Tuesday\n",
      "Wednesday\n",
      "Thursday\n",
      "Friday\n"
     ]
    }
   ],
   "source": [
    "#用in关键字，返回的是weekdays列表里每一个元素\n",
    "for day in weekdays:\n",
    "    print(day)"
   ]
  },
  {
   "cell_type": "code",
   "execution_count": 149,
   "id": "c6b14681",
   "metadata": {},
   "outputs": [
    {
     "name": "stdout",
     "output_type": "stream",
     "text": [
      "0 Monday\n",
      "1 Tuesday\n",
      "2 Wednesday\n",
      "3 Thursday\n",
      "4 Friday\n"
     ]
    }
   ],
   "source": [
    "# enumerate\n",
    "for key,day in enumerate(weekdays):\n",
    "    print(key,day) "
   ]
  },
  {
   "cell_type": "code",
   "execution_count": 150,
   "id": "826cfad4",
   "metadata": {},
   "outputs": [
    {
     "name": "stdout",
     "output_type": "stream",
     "text": [
      "1 Monday\n",
      "2 Tuesday\n",
      "3 Wednesday\n",
      "4 Thursday\n",
      "5 Friday\n"
     ]
    }
   ],
   "source": [
    "for key,day in enumerate(weekdays,1): #可以规定从哪个下标开始输出\n",
    "    print(key,day) "
   ]
  },
  {
   "cell_type": "code",
   "execution_count": 151,
   "id": "3b4f8560",
   "metadata": {},
   "outputs": [
    {
     "name": "stdout",
     "output_type": "stream",
     "text": [
      "key is size,value is medium\n",
      "key is type,value is pepperoni\n",
      "key is crust,value is thick\n",
      "key is qty,value is 1\n",
      "key is deliver,value is True\n"
     ]
    }
   ],
   "source": [
    "# in关键字也可以输出tuple\n",
    "pizza = {\n",
    "    \"size\":\"medium\",\n",
    "    \"type\":\"pepperoni\",\n",
    "    \"crust\":\"thick\",\n",
    "    \"qty\":1,\n",
    "    \"deliver\":True, \n",
    "}\n",
    "\n",
    "for k,v in pizza.items():\n",
    "    print(\"key is {},value is {}\".format(k,v))"
   ]
  },
  {
   "cell_type": "code",
   "execution_count": 152,
   "id": "b04c2990",
   "metadata": {},
   "outputs": [
    {
     "name": "stdout",
     "output_type": "stream",
     "text": [
      "size\n",
      "type\n",
      "crust\n",
      "qty\n",
      "deliver\n"
     ]
    }
   ],
   "source": [
    "for k in pizza:\n",
    "    print(k)"
   ]
  },
  {
   "cell_type": "code",
   "execution_count": 153,
   "id": "c89c2533",
   "metadata": {},
   "outputs": [
    {
     "name": "stdout",
     "output_type": "stream",
     "text": [
      "medium\n",
      "pepperoni\n",
      "thick\n",
      "1\n",
      "True\n"
     ]
    }
   ],
   "source": [
    "for v in pizza.values():\n",
    "    print(v)"
   ]
  },
  {
   "cell_type": "markdown",
   "id": "457c54af",
   "metadata": {},
   "source": [
    "# List Comprehensions\n"
   ]
  },
  {
   "cell_type": "markdown",
   "id": "93d98437",
   "metadata": {},
   "source": [
    "## Create a number list form 0 to 9\n",
    "\n",
    "Format:[expression for item in iterable]"
   ]
  },
  {
   "cell_type": "code",
   "execution_count": 154,
   "id": "0f24c0af",
   "metadata": {},
   "outputs": [
    {
     "data": {
      "text/plain": [
       "[0, 1, 2, 3, 4, 5, 6, 7, 8, 9]"
      ]
     },
     "execution_count": 154,
     "metadata": {},
     "output_type": "execute_result"
    }
   ],
   "source": [
    "num_list = []\n",
    "for i in range(0,10):\n",
    "    num_list.append(i)\n",
    "num_list"
   ]
  },
  {
   "cell_type": "code",
   "execution_count": 155,
   "id": "677ba6ee",
   "metadata": {},
   "outputs": [
    {
     "data": {
      "text/plain": [
       "[0, 1, 2, 3, 4, 5, 6, 7, 8, 9]"
      ]
     },
     "execution_count": 155,
     "metadata": {},
     "output_type": "execute_result"
    }
   ],
   "source": [
    "num_list = list(range(0,10))\n",
    "num_list"
   ]
  },
  {
   "cell_type": "code",
   "execution_count": 156,
   "id": "3f2a1709",
   "metadata": {},
   "outputs": [
    {
     "data": {
      "text/plain": [
       "[0, 1, 2, 3, 4, 5, 6, 7, 8, 9]"
      ]
     },
     "execution_count": 156,
     "metadata": {},
     "output_type": "execute_result"
    }
   ],
   "source": [
    "# 把for循环中的i放到list中\n",
    "num_list = [i for i in range(0,10)]\n",
    "num_list"
   ]
  },
  {
   "cell_type": "markdown",
   "id": "b29e6e76",
   "metadata": {},
   "source": [
    "## Create  a odd number list from 0 to 9"
   ]
  },
  {
   "cell_type": "code",
   "execution_count": 157,
   "id": "d8353cd4",
   "metadata": {},
   "outputs": [
    {
     "data": {
      "text/plain": [
       "[1, 3, 5, 7, 9]"
      ]
     },
     "execution_count": 157,
     "metadata": {},
     "output_type": "execute_result"
    }
   ],
   "source": [
    "num_list = []\n",
    "for i in range(0,10):\n",
    "    if i%2 == 1:\n",
    "        num_list.append(i)\n",
    "num_list"
   ]
  },
  {
   "cell_type": "code",
   "execution_count": 158,
   "id": "47150b18",
   "metadata": {},
   "outputs": [
    {
     "data": {
      "text/plain": [
       "[1, 3, 5, 7, 9]"
      ]
     },
     "execution_count": 158,
     "metadata": {},
     "output_type": "execute_result"
    }
   ],
   "source": [
    "num_list = [i for i in range(1,10,2)]\n",
    "num_list"
   ]
  },
  {
   "cell_type": "code",
   "execution_count": 159,
   "id": "f6169716",
   "metadata": {},
   "outputs": [
    {
     "data": {
      "text/plain": [
       "[1, 3, 5, 7, 9]"
      ]
     },
     "execution_count": 159,
     "metadata": {},
     "output_type": "execute_result"
    }
   ],
   "source": [
    "num_list = list(range(1,10,2))\n",
    "num_list"
   ]
  },
  {
   "cell_type": "markdown",
   "id": "0d707919",
   "metadata": {},
   "source": [
    "Format [expression for item in iterable if condition]"
   ]
  },
  {
   "cell_type": "code",
   "execution_count": 160,
   "id": "d510fde7",
   "metadata": {},
   "outputs": [
    {
     "data": {
      "text/plain": [
       "[1, 3, 5, 7, 9]"
      ]
     },
     "execution_count": 160,
     "metadata": {},
     "output_type": "execute_result"
    }
   ],
   "source": [
    "# 当i/2余数为1时才返回i的值给list\n",
    "num_list = [i for i in range(0,10) if i % 2 == 1]\n",
    "num_list"
   ]
  },
  {
   "cell_type": "markdown",
   "id": "0489ad0f",
   "metadata": {},
   "source": [
    "## Create a list number below 500:\n",
    "\n",
    "$(3-1)^2, (6-1)^2, (9-1)^2, (12-1)^2, (15-1)^2...$"
   ]
  },
  {
   "cell_type": "code",
   "execution_count": 161,
   "id": "4439f25d",
   "metadata": {},
   "outputs": [
    {
     "data": {
      "text/plain": [
       "[4, 25, 64, 121, 196, 289, 400]"
      ]
     },
     "execution_count": 161,
     "metadata": {},
     "output_type": "execute_result"
    }
   ],
   "source": [
    "import math\n",
    "num_list = []\n",
    "for i in range(1,int(math.sqrt(500))): #500以内\n",
    "    if i % 3 == 2:\n",
    "        num_list.append(i * i)\n",
    "num_list"
   ]
  },
  {
   "cell_type": "code",
   "execution_count": 162,
   "id": "2fdff7ee",
   "metadata": {},
   "outputs": [
    {
     "data": {
      "text/plain": [
       "[4, 25, 64, 121, 196, 289, 400]"
      ]
     },
     "execution_count": 162,
     "metadata": {},
     "output_type": "execute_result"
    }
   ],
   "source": [
    "num_list = [i * i for i in range(0,int(math.sqrt(500))) if i % 3 == 2]\n",
    "num_list"
   ]
  },
  {
   "cell_type": "code",
   "execution_count": 163,
   "id": "14f0179b",
   "metadata": {},
   "outputs": [
    {
     "data": {
      "text/plain": [
       "generator"
      ]
     },
     "execution_count": 163,
     "metadata": {},
     "output_type": "execute_result"
    }
   ],
   "source": [
    "gen = (i * i for i in range(0,int(math.sqrt(500))) if i % 3 == 2)\n",
    "type(gen)"
   ]
  },
  {
   "cell_type": "code",
   "execution_count": 164,
   "id": "0f5f8be1",
   "metadata": {},
   "outputs": [
    {
     "name": "stdout",
     "output_type": "stream",
     "text": [
      "4\n",
      "25\n",
      "64\n",
      "121\n",
      "196\n",
      "289\n",
      "400\n"
     ]
    }
   ],
   "source": [
    "for num in gen:\n",
    "    print(num)"
   ]
  },
  {
   "cell_type": "markdown",
   "id": "21547d51",
   "metadata": {},
   "source": [
    "# Generator\n",
    "\n",
    "与常规函数不同，Generator使用yield语句返回数据，而不是使用return语句。每次调用Generator时，它会从上一次yield语句停止的位置开始执行，然后生成下一个值，并再次停止在yield语句处，等待下一次调用。"
   ]
  },
  {
   "cell_type": "code",
   "execution_count": 24,
   "id": "2b877326",
   "metadata": {},
   "outputs": [
    {
     "name": "stdout",
     "output_type": "stream",
     "text": [
      "1\n"
     ]
    }
   ],
   "source": [
    "def my_generator():\n",
    "    yield 1\n",
    "    yield 2\n",
    "    yield 3\n",
    "\n",
    "# 使用next()函数逐个生成Generator中的值\n",
    "gen = my_generator()\n",
    "print(next(gen))"
   ]
  },
  {
   "cell_type": "code",
   "execution_count": 25,
   "id": "8c34ff57",
   "metadata": {},
   "outputs": [
    {
     "name": "stdout",
     "output_type": "stream",
     "text": [
      "2\n"
     ]
    }
   ],
   "source": [
    "print(next(gen))"
   ]
  },
  {
   "cell_type": "code",
   "execution_count": 26,
   "id": "879cbc71",
   "metadata": {},
   "outputs": [
    {
     "name": "stdout",
     "output_type": "stream",
     "text": [
      "3\n"
     ]
    }
   ],
   "source": [
    "print(next(gen))"
   ]
  },
  {
   "cell_type": "code",
   "execution_count": 27,
   "id": "99ec43bd",
   "metadata": {},
   "outputs": [
    {
     "name": "stdout",
     "output_type": "stream",
     "text": [
      "1\n",
      "2\n",
      "3\n"
     ]
    }
   ],
   "source": [
    "# 使用for循环遍历generator\n",
    "for value in my_generator():\n",
    "    print(value)"
   ]
  },
  {
   "cell_type": "markdown",
   "id": "afa0bf2e",
   "metadata": {},
   "source": [
    "# Dictionary Comprehension"
   ]
  },
  {
   "cell_type": "code",
   "execution_count": 192,
   "id": "13c91c2b",
   "metadata": {},
   "outputs": [
    {
     "data": {
      "text/plain": [
       "{'C': 3, 'T': 3, 'G': 2, 'A': 4}"
      ]
     },
     "execution_count": 192,
     "metadata": {},
     "output_type": "execute_result"
    }
   ],
   "source": [
    "dna = 'ACCCGAATTAGT'\n",
    "dna_cnt = {b:dna.count(b) for b in set(dna)}#默认{}是字典，set的元素不可重复\n",
    "dna_cnt"
   ]
  },
  {
   "cell_type": "markdown",
   "id": "82c9ae22",
   "metadata": {},
   "source": [
    "# if"
   ]
  },
  {
   "cell_type": "code",
   "execution_count": 165,
   "id": "12364c8d",
   "metadata": {},
   "outputs": [
    {
     "name": "stdout",
     "output_type": "stream",
     "text": [
      "Take your umberalla just in case. Hahaha\n"
     ]
    }
   ],
   "source": [
    "possibility_to_rain = 0.7\n",
    "\n",
    "if possibility_to_rain > 0.8:\n",
    "    print(\"Do take your umberalla with you\")\n",
    "    \n",
    "elif possibility_to_rain > 0.3: #0.3< x <=0.8\n",
    "    print(\"Take your umberalla just in case. Hahaha\")\n",
    "    \n",
    "else:\n",
    "    print(\"Enjoy the sunshine!\")"
   ]
  },
  {
   "cell_type": "code",
   "execution_count": 166,
   "id": "83cb8318",
   "metadata": {},
   "outputs": [
    {
     "name": "stdout",
     "output_type": "stream",
     "text": [
      "Please enter an integer:-3\n",
      "Negative changed to zero\n"
     ]
    }
   ],
   "source": [
    "x = int(input(\"Please enter an integer:\"))\n",
    "\n",
    "if x < 0:\n",
    "    x = 0 #这里虽然变成了0.但下面当x=0的语句不会执行，因为这里已经满足条件了\n",
    "    print(\"Negative changed to zero\")\n",
    "elif x == 0:\n",
    "    print(\"zero\")\n",
    "elif x == 1:\n",
    "    print(\"single\")\n",
    "else:\n",
    "    print(\"More\")"
   ]
  },
  {
   "cell_type": "markdown",
   "id": "78aab565",
   "metadata": {},
   "source": [
    "# While"
   ]
  },
  {
   "cell_type": "code",
   "execution_count": 167,
   "id": "34d2f2dc",
   "metadata": {},
   "outputs": [
    {
     "name": "stdout",
     "output_type": "stream",
     "text": [
      "cnt = 1\n",
      "cnt = 2\n",
      "cnt = 3\n",
      "cnt = 4\n",
      "cnt = 5\n",
      "Finish!\n"
     ]
    }
   ],
   "source": [
    "cnt = 1\n",
    "while cnt <= 5:\n",
    "    print(\"cnt = %d\" % cnt)\n",
    "    cnt += 1\n",
    "print('Finish!')"
   ]
  },
  {
   "cell_type": "code",
   "execution_count": 168,
   "id": "0c6f3a62",
   "metadata": {},
   "outputs": [
    {
     "name": "stdout",
     "output_type": "stream",
     "text": [
      "cnt = 1\n",
      "Do you want to continue?[y:n]:y\n",
      "cnt = 2\n",
      "Do you want to continue?[y:n]:y\n",
      "cnt = 3\n",
      "Do you want to continue?[y:n]:y\n",
      "cnt = 4\n",
      "Do you want to continue?[y:n]:y\n",
      "cnt = 5\n",
      "Do you want to continue?[y:n]:n\n"
     ]
    }
   ],
   "source": [
    "cnt = 1\n",
    "while cnt <= 5:\n",
    "    print(\"cnt = %d\" % cnt)\n",
    "    ch = input(\"Do you want to continue?[y:n]:\")\n",
    "    if ch == 'y':\n",
    "        cnt += 1\n",
    "    else:\n",
    "        break #跳出while循环"
   ]
  },
  {
   "cell_type": "code",
   "execution_count": 169,
   "id": "53d7a746",
   "metadata": {},
   "outputs": [
    {
     "name": "stdout",
     "output_type": "stream",
     "text": [
      "1\n",
      "2\n",
      "3\n",
      "4\n",
      "5\n",
      "6\n",
      "7\n",
      "8\n",
      "9\n",
      "10\n",
      "counting complete!\n"
     ]
    }
   ],
   "source": [
    "#和if连用\n",
    "count = 1\n",
    "while count < 11:\n",
    "    print(count)\n",
    "    count += 1\n",
    "if count == 11:\n",
    "    print(\"counting complete!\")"
   ]
  },
  {
   "cell_type": "code",
   "execution_count": 170,
   "id": "994b8985",
   "metadata": {},
   "outputs": [
    {
     "name": "stdout",
     "output_type": "stream",
     "text": [
      "0\n",
      "1\n",
      "2\n",
      "3\n",
      "4\n",
      "5\n"
     ]
    }
   ],
   "source": [
    "#for 和 if连用\n",
    "for i in range(0,10):\n",
    "    print(i)\n",
    "    if i == 5:\n",
    "        break\n",
    "else :\n",
    "     print(\"no break\")\n",
    "    "
   ]
  },
  {
   "cell_type": "markdown",
   "id": "c4a51efc",
   "metadata": {},
   "source": [
    "# 猜数字游戏"
   ]
  },
  {
   "cell_type": "code",
   "execution_count": 182,
   "id": "44292ea0",
   "metadata": {},
   "outputs": [],
   "source": [
    "from random import randint\n",
    "mystery = randint(1,100)\n",
    "\n",
    "def guess_number(times):\n",
    "    for i in range(0,times):\n",
    "        user_input = int(input(\"Please enter a number:\\n>>>\"))\n",
    "        if user_input == mystery:\n",
    "            print(\"Great, you are right, the number is %s.\"% mystery)\n",
    "            break\n",
    "        elif user_input > mystery:\n",
    "            print(\"Your input is too big.\")\n",
    "            print(\"You have %s time(s) left. Good luck!\"%(times - i))\n",
    "        else:\n",
    "            print(\"Your inout is too small.\")\n",
    "            print(\"You have %s time(s) left. Good luck!\"%(times - i))\n",
    "            \n",
    "    print(\"Game is over...\")"
   ]
  },
  {
   "cell_type": "code",
   "execution_count": 183,
   "id": "240e3dee",
   "metadata": {},
   "outputs": [
    {
     "name": "stdout",
     "output_type": "stream",
     "text": [
      "Please enter a number:\n",
      ">>>50\n",
      "Your input is too big.\n",
      "You have 10 time(s) left. Good luck!\n",
      "Please enter a number:\n",
      ">>>45\n",
      "Your input is too big.\n",
      "You have 9 time(s) left. Good luck!\n",
      "Please enter a number:\n",
      ">>>30\n",
      "Your inout is too small.\n",
      "You have 8 time(s) left. Good luck!\n",
      "Please enter a number:\n",
      ">>>38\n",
      "Your input is too big.\n",
      "You have 7 time(s) left. Good luck!\n",
      "Please enter a number:\n",
      ">>>35\n",
      "Your input is too big.\n",
      "You have 6 time(s) left. Good luck!\n",
      "Please enter a number:\n",
      ">>>33\n",
      "Your input is too big.\n",
      "You have 5 time(s) left. Good luck!\n",
      "Please enter a number:\n",
      ">>>32\n",
      "Great, you are right, the number is 32.\n",
      "Game is over...\n"
     ]
    }
   ],
   "source": [
    "guess_number(10)"
   ]
  },
  {
   "cell_type": "markdown",
   "id": "47ea2c0f",
   "metadata": {},
   "source": [
    "# Nested"
   ]
  },
  {
   "cell_type": "code",
   "execution_count": 189,
   "id": "9d3ecab0",
   "metadata": {},
   "outputs": [
    {
     "name": "stdout",
     "output_type": "stream",
     "text": [
      "xxxxxxxxxx\n",
      "xxxxxxxxxx\n",
      "xxxxxxxxxx\n",
      "xxxxxxxxxx\n"
     ]
    }
   ],
   "source": [
    "for i in range(4):\n",
    "    for j in range(10):\n",
    "        print(\"x\",end=\"\")#折行\n",
    "    print(\"\")"
   ]
  },
  {
   "cell_type": "code",
   "execution_count": 191,
   "id": "e184dba8",
   "metadata": {},
   "outputs": [
    {
     "name": "stdout",
     "output_type": "stream",
     "text": [
      "x\n",
      "xx\n",
      "xxx\n",
      "xxxx\n",
      "xxxxx\n"
     ]
    }
   ],
   "source": [
    "for i in range(5):\n",
    "    for j in range(i+1):\n",
    "        print(\"x\",end=\"\")#折行\n",
    "    print(\"\")"
   ]
  },
  {
   "cell_type": "markdown",
   "id": "a8da8158",
   "metadata": {},
   "source": [
    "# Function"
   ]
  },
  {
   "cell_type": "code",
   "execution_count": 193,
   "id": "625c4cd4",
   "metadata": {},
   "outputs": [
    {
     "data": {
      "text/plain": [
       "function"
      ]
     },
     "execution_count": 193,
     "metadata": {},
     "output_type": "execute_result"
    }
   ],
   "source": [
    "# an empty funciton that does nothing\n",
    "def do_nothing():\n",
    "    pass\n",
    "\n",
    "type(do_nothing)"
   ]
  },
  {
   "cell_type": "code",
   "execution_count": 195,
   "id": "94258d85",
   "metadata": {},
   "outputs": [
    {
     "name": "stdout",
     "output_type": "stream",
     "text": [
      "Hello python\n"
     ]
    }
   ],
   "source": [
    "# 一个没有参数和返回值的函数\n",
    "def greeting():\n",
    "    print(\"Hello python\")\n",
    "    \n",
    "# call the function调用参数\n",
    "greeting()"
   ]
  },
  {
   "cell_type": "code",
   "execution_count": 196,
   "id": "be592520",
   "metadata": {},
   "outputs": [
    {
     "name": "stdout",
     "output_type": "stream",
     "text": [
      "Narcissism!\n"
     ]
    }
   ],
   "source": [
    "# 一个没有参数但有返回值的函数\n",
    "def im_handsome():\n",
    "    return True\n",
    "\n",
    "#运用返回值\n",
    "if im_handsome():\n",
    "    print(\"Narcissism!\")\n",
    "else:\n",
    "    print(\"At least you are honest.\")"
   ]
  },
  {
   "cell_type": "code",
   "execution_count": 198,
   "id": "8fce7690",
   "metadata": {},
   "outputs": [
    {
     "name": "stdout",
     "output_type": "stream",
     "text": [
      "Hello Edward!\n"
     ]
    }
   ],
   "source": [
    "# 一个有参数的函数\n",
    "def greeting(name):\n",
    "    print(\"Hello %s!\" % name)\n",
    "    \n",
    "#调用函数\n",
    "greeting(\"Edward\")"
   ]
  },
  {
   "cell_type": "code",
   "execution_count": 200,
   "id": "46e05535",
   "metadata": {},
   "outputs": [
    {
     "data": {
      "text/plain": [
       "'Hello Edward'"
      ]
     },
     "execution_count": 200,
     "metadata": {},
     "output_type": "execute_result"
    }
   ],
   "source": [
    "# 一个有参数和返回值的函数\n",
    "def greeting(name):\n",
    "    return \"Hello \" + name\n",
    "    \n",
    "#调用函数\n",
    "greeting(\"Edward\")"
   ]
  },
  {
   "cell_type": "markdown",
   "id": "275e8041",
   "metadata": {},
   "source": [
    "## Positional Arguments 位移参数"
   ]
  },
  {
   "cell_type": "code",
   "execution_count": 201,
   "id": "31ff2f33",
   "metadata": {},
   "outputs": [
    {
     "data": {
      "text/plain": [
       "{'wine': 'chardonnay', 'entree': 'chicken', 'dessert': 'cake'}"
      ]
     },
     "execution_count": 201,
     "metadata": {},
     "output_type": "execute_result"
    }
   ],
   "source": [
    "# 一个有三个参数的函数\n",
    "def menu(wine,entree,dessert):\n",
    "    return {'wine':wine,'entree':entree,'dessert':dessert}\n",
    "\n",
    "menu('chardonnay','chicken','cake')"
   ]
  },
  {
   "cell_type": "markdown",
   "id": "784e071a",
   "metadata": {},
   "source": [
    "上面这种写法一旦输入顺序错了，搭配也就错了，这时候就适合用positional arguments。positional arguments的顺序可以和参数不一样。"
   ]
  },
  {
   "cell_type": "code",
   "execution_count": 202,
   "id": "48a8c410",
   "metadata": {},
   "outputs": [
    {
     "data": {
      "text/plain": [
       "{'wine': 'bordeaux', 'entree': 'beef', 'dessert': 'bagel'}"
      ]
     },
     "execution_count": 202,
     "metadata": {},
     "output_type": "execute_result"
    }
   ],
   "source": [
    "menu(entree = \"beef\",dessert='bagel',wine='bordeaux')"
   ]
  },
  {
   "cell_type": "markdown",
   "id": "71c138d2",
   "metadata": {},
   "source": [
    "## Default Parameter Values 默认参数\n",
    "默认参数只能放在最后"
   ]
  },
  {
   "cell_type": "code",
   "execution_count": 204,
   "id": "09e2ea91",
   "metadata": {},
   "outputs": [
    {
     "data": {
      "text/plain": [
       "{'wine': 'chardonnay', 'entree': 'chicken', 'dessert': 'pudding'}"
      ]
     },
     "execution_count": 204,
     "metadata": {},
     "output_type": "execute_result"
    }
   ],
   "source": [
    "def menu(wine,entree,dessert='pudding'):\n",
    "    return  {'wine':wine,'entree':entree,'dessert':dessert}\n",
    "\n",
    "menu('chardonnay','chicken')#没有第三个参数会自动补上pudding"
   ]
  },
  {
   "cell_type": "code",
   "execution_count": 205,
   "id": "e8b650c1",
   "metadata": {},
   "outputs": [
    {
     "data": {
      "text/plain": [
       "{'wine': 'chardonnay', 'entree': 'chicken', 'dessert': 'doughnut'}"
      ]
     },
     "execution_count": 205,
     "metadata": {},
     "output_type": "execute_result"
    }
   ],
   "source": [
    "menu('chardonnay','chicken','doughnut')"
   ]
  },
  {
   "cell_type": "code",
   "execution_count": 207,
   "id": "aff77733",
   "metadata": {},
   "outputs": [
    {
     "name": "stdout",
     "output_type": "stream",
     "text": [
      "['a']\n",
      "['a', 'b']\n",
      "['a', 'b', 'c']\n"
     ]
    }
   ],
   "source": [
    "def buggy(arg,result=[]): #由于list是mutable（可被修改的），以前输入过的和以后输入的值都会放入list\n",
    "    result.append(arg)\n",
    "    print(result)\n",
    "    \n",
    "buggy('a')\n",
    "buggy('b')\n",
    "buggy('c')"
   ]
  },
  {
   "cell_type": "code",
   "execution_count": 209,
   "id": "94e571a9",
   "metadata": {},
   "outputs": [
    {
     "name": "stdout",
     "output_type": "stream",
     "text": [
      "['a']\n",
      "['b']\n",
      "['c']\n"
     ]
    }
   ],
   "source": [
    "def buggy(arg,result=None):\n",
    "    if result is None:\n",
    "        result = []\n",
    "    result.append(arg)\n",
    "    print(result)\n",
    "    \n",
    "buggy('a')\n",
    "buggy('b')\n",
    "buggy('c')"
   ]
  },
  {
   "cell_type": "markdown",
   "id": "7771f7d6",
   "metadata": {},
   "source": [
    "## 不定长参数（variable-length arguments）\n",
    "有两种类型的不定长参数：带星号 * 的位置参数和带双星号 ** 的关键字参数。带星号的位置参数将收集所有位置参数，而带双星号的关键字参数将收集所有关键字参数。如果 * 和 ** 一起用，需要把* 放前面。"
   ]
  },
  {
   "cell_type": "code",
   "execution_count": 210,
   "id": "f1a68ff5",
   "metadata": {},
   "outputs": [
    {
     "name": "stdout",
     "output_type": "stream",
     "text": [
      "positional args: (1, 2, 3, 'hello')\n"
     ]
    }
   ],
   "source": [
    "def print_args(*args):\n",
    "    print(\"positional args:\",args)\n",
    "    \n",
    "print_args(1,2,3,'hello')"
   ]
  },
  {
   "cell_type": "code",
   "execution_count": 211,
   "id": "f5a834eb",
   "metadata": {},
   "outputs": [
    {
     "name": "stdout",
     "output_type": "stream",
     "text": [
      "keyword args: {'first': 1, 'second': 2}\n"
     ]
    }
   ],
   "source": [
    "def print_kwargs(**kwargs):\n",
    "    print(\"keyword args:\",kwargs)\n",
    "    \n",
    "print_kwargs(first = 1, second = 2)"
   ]
  },
  {
   "cell_type": "code",
   "execution_count": 212,
   "id": "0deaf6bc",
   "metadata": {},
   "outputs": [
    {
     "name": "stdout",
     "output_type": "stream",
     "text": [
      "Positional arguments: (1, 2, 3)\n",
      "Keyword arguments: {'a': 'apple', 'b': 'banana'}\n"
     ]
    }
   ],
   "source": [
    "def print_args(*args, **kwargs):\n",
    "    print(\"Positional arguments:\", args)\n",
    "    print(\"Keyword arguments:\", kwargs)\n",
    "    \n",
    "print_args(1, 2, 3, a=\"apple\", b=\"banana\")"
   ]
  },
  {
   "cell_type": "markdown",
   "id": "4f52b542",
   "metadata": {},
   "source": [
    "## 函数嵌套"
   ]
  },
  {
   "cell_type": "code",
   "execution_count": 215,
   "id": "4b28adc9",
   "metadata": {},
   "outputs": [
    {
     "name": "stdout",
     "output_type": "stream",
     "text": [
      "1 + 2 = 3\n",
      "1 - 2 = -1\n"
     ]
    }
   ],
   "source": [
    "def binary_operation(func,op1,op2):\n",
    "    return func(op1,op2)\n",
    "\n",
    "def add(op1,op2):\n",
    "    return op1 + op2\n",
    "\n",
    "def sub(op1,op2):\n",
    "    return op1 - op2\n",
    "\n",
    "print(\"1 + 2 =\",binary_operation(add,1,2))\n",
    "print(\"1 - 2 =\",binary_operation(sub,1,2))"
   ]
  },
  {
   "cell_type": "code",
   "execution_count": 217,
   "id": "ccc3e5b9",
   "metadata": {},
   "outputs": [
    {
     "data": {
      "text/plain": [
       "9"
      ]
     },
     "execution_count": 217,
     "metadata": {},
     "output_type": "execute_result"
    }
   ],
   "source": [
    "def exp_factory(n):\n",
    "    def exp(a):\n",
    "        return a**n\n",
    "    return exp\n",
    "\n",
    "exp_factory(2)(3)"
   ]
  },
  {
   "cell_type": "code",
   "execution_count": 222,
   "id": "3fc2499f",
   "metadata": {},
   "outputs": [
    {
     "data": {
      "text/plain": [
       "'Hello world'"
      ]
     },
     "execution_count": 222,
     "metadata": {},
     "output_type": "execute_result"
    }
   ],
   "source": [
    "# 可以加类型的提示 -> str\n",
    "def greeting(name:str)->str: #提示name参数的类型为str，-> str返回值的类型也需要是str\n",
    "    return \"Hello \" + name\n",
    "\n",
    "greeting(\"world\")"
   ]
  },
  {
   "cell_type": "markdown",
   "id": "7d286503",
   "metadata": {},
   "source": [
    "# Lambda "
   ]
  },
  {
   "cell_type": "code",
   "execution_count": 216,
   "id": "30262c75",
   "metadata": {},
   "outputs": [
    {
     "name": "stdout",
     "output_type": "stream",
     "text": [
      "2 * 4 = 8\n"
     ]
    }
   ],
   "source": [
    "def mul(op1,op2):\n",
    "    return op1 * op2\n",
    "\n",
    "print(\"2 * 4 =\", binary_operation(mul,2,4))"
   ]
  },
  {
   "cell_type": "code",
   "execution_count": 224,
   "id": "aa0a971e",
   "metadata": {},
   "outputs": [
    {
     "data": {
      "text/plain": [
       "8"
      ]
     },
     "execution_count": 224,
     "metadata": {},
     "output_type": "execute_result"
    }
   ],
   "source": [
    "binary_operation(lambda op1,op2 : op1*op2, 2,4)"
   ]
  },
  {
   "cell_type": "code",
   "execution_count": 225,
   "id": "e2dc3945",
   "metadata": {},
   "outputs": [
    {
     "data": {
      "text/plain": [
       "4"
      ]
     },
     "execution_count": 225,
     "metadata": {},
     "output_type": "execute_result"
    }
   ],
   "source": [
    "double = lambda x : x * 2\n",
    "double(2)"
   ]
  },
  {
   "cell_type": "markdown",
   "id": "749b277d",
   "metadata": {},
   "source": [
    "# Filter\n",
    "filter() 是 Python 内置函数之一，用于对可迭代对象中的元素进行筛选过滤，返回符合条件的元素。\n",
    "\n",
    "语法：filter(function, iterable)\n",
    "\n",
    "其中，function 是用来筛选元素的函数，可选参数，如果不指定，则默认筛选出 iterable 中非 False 元素；iterable 是可迭代对象，必选参数。\n",
    "\n",
    "function 函数需要返回 True 或 False，根据返回值决定是否将元素加入筛选结果。如果 function 函数不指定，则默认返回元素本身是否为 True。"
   ]
  },
  {
   "cell_type": "markdown",
   "id": "2d9b3db5",
   "metadata": {},
   "source": [
    "示例一：过滤出列表中的奇数"
   ]
  },
  {
   "cell_type": "code",
   "execution_count": 226,
   "id": "89b9bb28",
   "metadata": {},
   "outputs": [
    {
     "name": "stdout",
     "output_type": "stream",
     "text": [
      "[1, 3, 5, 7, 9]\n"
     ]
    }
   ],
   "source": [
    "def is_odd(n):\n",
    "    return n % 2 == 1\n",
    "\n",
    "lst = [1, 2, 3, 4, 5, 6, 7, 8, 9]\n",
    "result = filter(is_odd, lst)\n",
    "print(list(result))"
   ]
  },
  {
   "cell_type": "markdown",
   "id": "6a35859e",
   "metadata": {},
   "source": [
    "示例二：过滤出字典中值为偶数的项"
   ]
  },
  {
   "cell_type": "code",
   "execution_count": 227,
   "id": "5bc835f2",
   "metadata": {},
   "outputs": [
    {
     "name": "stdout",
     "output_type": "stream",
     "text": [
      "{'b': 2, 'd': 4}\n"
     ]
    }
   ],
   "source": [
    "dct = {\"a\": 1, \"b\": 2, \"c\": 3, \"d\": 4, \"e\": 5}\n",
    "result = filter(lambda x: x[1] % 2 == 0, dct.items())\n",
    "print(dict(result))  "
   ]
  },
  {
   "cell_type": "markdown",
   "id": "f043fbe6",
   "metadata": {},
   "source": [
    "示例三：过滤出列表中小于0的数字"
   ]
  },
  {
   "cell_type": "code",
   "execution_count": 238,
   "id": "37d23488",
   "metadata": {},
   "outputs": [
    {
     "data": {
      "text/plain": [
       "[-5, -4, -3, -2, -1, 0, 1, 2, 3, 4]"
      ]
     },
     "execution_count": 238,
     "metadata": {},
     "output_type": "execute_result"
    },
    {
     "data": {
      "text/plain": [
       "[-5, -4, -3, -2, -1]"
      ]
     },
     "execution_count": 238,
     "metadata": {},
     "output_type": "execute_result"
    }
   ],
   "source": [
    "num_list = range(-5,5)\n",
    "list(num_list)\n",
    "less_than_zero = list(filter(lambda x : x < 0, num_list))\n",
    "less_than_zero"
   ]
  },
  {
   "cell_type": "markdown",
   "id": "ddc4c849",
   "metadata": {},
   "source": [
    "# Map\n",
    "\n",
    "map() 是 Python 内置函数之一，用于对可迭代对象中的元素进行映射操作，返回一个新的可迭代对象，其中每个元素都是原始可迭代对象中经过映射后的结果。\n",
    "\n",
    "语法：map(function, iterable, ...)\n",
    "\n",
    "其中，function 是用于映射元素的函数，必选参数；iterable 是可迭代对象，必选参数；... 是可选的多个可迭代对象，用于同时进行映射操作。\n",
    "\n",
    "function 函数会依次作用于 iterable 中的每个元素，并将映射结果作为新的可迭代对象中对应位置的元素返回。"
   ]
  },
  {
   "cell_type": "markdown",
   "id": "522a5dcc",
   "metadata": {},
   "source": [
    "示例一：将列表中的元素都平方"
   ]
  },
  {
   "cell_type": "code",
   "execution_count": 228,
   "id": "bcb9a3cc",
   "metadata": {},
   "outputs": [
    {
     "name": "stdout",
     "output_type": "stream",
     "text": [
      "[1, 4, 9, 16, 25]\n"
     ]
    }
   ],
   "source": [
    "def square(n):\n",
    "    return n ** 2\n",
    "\n",
    "lst = [1, 2, 3, 4, 5]\n",
    "result = map(square, lst)\n",
    "print(list(result))  "
   ]
  },
  {
   "cell_type": "code",
   "execution_count": 240,
   "id": "d1af9243",
   "metadata": {},
   "outputs": [
    {
     "name": "stdout",
     "output_type": "stream",
     "text": [
      "[1, 4, 9, 16, 25]\n"
     ]
    }
   ],
   "source": [
    "lst = [1, 2, 3, 4, 5]\n",
    "result = map(lambda x : x**2, lst)\n",
    "print(list(result))  "
   ]
  },
  {
   "cell_type": "markdown",
   "id": "d4ba32b7",
   "metadata": {},
   "source": [
    "示例二：将两个列表对应元素相加"
   ]
  },
  {
   "cell_type": "code",
   "execution_count": 229,
   "id": "2ccf531c",
   "metadata": {},
   "outputs": [
    {
     "name": "stdout",
     "output_type": "stream",
     "text": [
      "[11, 22, 33, 44, 55]\n"
     ]
    }
   ],
   "source": [
    "lst1 = [1, 2, 3, 4, 5]\n",
    "lst2 = [10, 20, 30, 40, 50]\n",
    "result = map(lambda x, y: x + y, lst1, lst2)\n",
    "print(list(result))  "
   ]
  },
  {
   "cell_type": "markdown",
   "id": "ed64cb42",
   "metadata": {},
   "source": [
    "# Reduce\n",
    "\n",
    "reduce() 是 Python 内置函数之一，用于对可迭代对象中的元素进行累积操作，返回最终的累积结果。\n",
    "\n",
    "语法：reduce(function, iterable[, initializer])\n",
    "\n",
    "其中，function 是用于累积元素的函数，必选参数；iterable 是可迭代对象，必选参数；initializer 是可选的初始值，如果指定，则作为累积的初始值。\n",
    "\n",
    "function 函数会依次作用于 iterable 中的每个元素，并将累积结果作为下一次调用函数时的第一个参数。如果指定了 initializer，则累积的初始值为 initializer，否则累积的初始值为 iterable 中的第一个元素。\n",
    "\n"
   ]
  },
  {
   "cell_type": "markdown",
   "id": "147dc729",
   "metadata": {},
   "source": [
    "示例一：计算列表中所有元素的和"
   ]
  },
  {
   "cell_type": "code",
   "execution_count": 241,
   "id": "f22e964f",
   "metadata": {},
   "outputs": [
    {
     "name": "stdout",
     "output_type": "stream",
     "text": [
      "15\n"
     ]
    }
   ],
   "source": [
    "from functools import reduce\n",
    "\n",
    "lst = [1, 2, 3, 4, 5]\n",
    "result = reduce(lambda x, y: x + y, lst)\n",
    "print(result)  "
   ]
  },
  {
   "cell_type": "code",
   "execution_count": 244,
   "id": "62281757",
   "metadata": {},
   "outputs": [
    {
     "data": {
      "text/plain": [
       "15"
      ]
     },
     "execution_count": 244,
     "metadata": {},
     "output_type": "execute_result"
    }
   ],
   "source": [
    "lst = [1, 2, 3, 4, 5]\n",
    "sum(lst)"
   ]
  },
  {
   "cell_type": "markdown",
   "id": "bc8c206b",
   "metadata": {},
   "source": [
    "示例二：找出列表中最大的值"
   ]
  },
  {
   "cell_type": "code",
   "execution_count": 245,
   "id": "b42dcba1",
   "metadata": {},
   "outputs": [
    {
     "data": {
      "text/plain": [
       "78"
      ]
     },
     "execution_count": 245,
     "metadata": {},
     "output_type": "execute_result"
    }
   ],
   "source": [
    "f = lambda a,b : a if (a>b) else b\n",
    "reduce(f,[47,78,12,45])"
   ]
  },
  {
   "cell_type": "code",
   "execution_count": 246,
   "id": "c06a6cbf",
   "metadata": {},
   "outputs": [
    {
     "data": {
      "text/plain": [
       "102"
      ]
     },
     "execution_count": 246,
     "metadata": {},
     "output_type": "execute_result"
    }
   ],
   "source": [
    "all_items = [47,11,42,102,13]\n",
    "maximum = all_items[0]\n",
    "for i in range(1,len(all_items)):\n",
    "    if all_items[i] > maximum:\n",
    "        maximum = all_items[i]\n",
    "maximum"
   ]
  },
  {
   "cell_type": "markdown",
   "id": "08189841",
   "metadata": {},
   "source": [
    "# Exception\n",
    "\n",
    "在 Python 中，异常处理是一种用于在程序运行时检测和处理错误的机制。当程序运行时出现错误，Python 会引发异常，并在程序中查找可以处理该异常的代码块。\n",
    "\n",
    "语法：\n",
    "\n",
    "```\n",
    "try:\n",
    "    # 可能引发异常的代码块\n",
    "except SomeException:\n",
    "    # 处理 SomeException 异常的代码块\n",
    "else:\n",
    "    # 没有引发异常时执行的代码块\n",
    "finally:\n",
    "    # 无论是否有异常，都会执行的代码块\n",
    "```\n",
    "\n",
    "其中，try 代码块包含可能引发异常的代码。如果发生异常，Python 将跳过 try 代码块的剩余部分，并查找可以处理该异常的 except 代码块。\n",
    "\n",
    "except 代码块指定了要处理的异常类型。如果发生指定的异常类型，则执行该代码块中的代码。如果没有指定异常类型，则捕获所有异常。\n",
    "\n",
    "else 代码块包含在 try 代码块中的代码在没有引发异常时执行的代码。\n",
    "\n",
    "finally 代码块包含无论是否有异常，都需要执行的代码。一般情况下，finally 代码块用于释放资源等操作。"
   ]
  },
  {
   "cell_type": "markdown",
   "id": "deeeae1e",
   "metadata": {},
   "source": [
    "示例一：捕获指定异常"
   ]
  },
  {
   "cell_type": "code",
   "execution_count": 247,
   "id": "9e024c2f",
   "metadata": {},
   "outputs": [
    {
     "name": "stdout",
     "output_type": "stream",
     "text": [
      "除数不能为零！\n"
     ]
    }
   ],
   "source": [
    "try:\n",
    "    x = 1 / 0\n",
    "except ZeroDivisionError:\n",
    "    print(\"除数不能为零！\")"
   ]
  },
  {
   "cell_type": "markdown",
   "id": "0e2a497f",
   "metadata": {},
   "source": [
    "上面的例子中，try 代码块尝试将 1 除以 0，会引发 ZeroDivisionError 异常。except 代码块指定了要处理的异常类型为 ZeroDivisionError，当发生该异常时，会执行 except 代码块中的代码，打印出错误信息。"
   ]
  },
  {
   "cell_type": "markdown",
   "id": "496d2f9e",
   "metadata": {},
   "source": [
    "示例二：捕获所有异常"
   ]
  },
  {
   "cell_type": "code",
   "execution_count": 248,
   "id": "996cb80d",
   "metadata": {},
   "outputs": [
    {
     "name": "stdout",
     "output_type": "stream",
     "text": [
      "出现了一个异常！\n"
     ]
    }
   ],
   "source": [
    "try:\n",
    "    x = 1 / 0\n",
    "except:\n",
    "    print(\"出现了一个异常！\")"
   ]
  },
  {
   "cell_type": "markdown",
   "id": "95a0ca14",
   "metadata": {},
   "source": [
    "上面的例子中，except 代码块没有指定要处理的异常类型，因此会捕获所有异常。当发生任何异常时，会执行 except 代码块中的代码，打印出错误信息。"
   ]
  },
  {
   "cell_type": "markdown",
   "id": "65c5d626",
   "metadata": {},
   "source": [
    "示例三：使用 else 代码块"
   ]
  },
  {
   "cell_type": "code",
   "execution_count": 249,
   "id": "814176d9",
   "metadata": {},
   "outputs": [
    {
     "name": "stdout",
     "output_type": "stream",
     "text": [
      "计算结果为： 0.5\n"
     ]
    }
   ],
   "source": [
    "try:\n",
    "    x = 1 / 2\n",
    "except ZeroDivisionError:\n",
    "    print(\"除数不能为零！\")\n",
    "else:\n",
    "    print(\"计算结果为：\", x)"
   ]
  },
  {
   "cell_type": "markdown",
   "id": "ed6ebbd3",
   "metadata": {},
   "source": [
    "上面的例子中，try 代码块尝试将 1 除以 2，不会引发异常。因此，会执行 else 代码块中的代码，打印出计算结果。"
   ]
  },
  {
   "cell_type": "markdown",
   "id": "a4c33805",
   "metadata": {},
   "source": [
    "示例四：使用 finally 代码块"
   ]
  },
  {
   "cell_type": "markdown",
   "id": "88826eee",
   "metadata": {},
   "source": [
    "```\n",
    "try:\n",
    "    # 打开文件\n",
    "    f = open(\"test.txt\", \"r\")\n",
    "    \n",
    "    # 读取文件内容\n",
    "    print(f.read())\n",
    "    \n",
    "except:\n",
    "    # 处理异常\n",
    "    print(\"发生了一个异常！\")\n",
    "    \n",
    "finally:\n",
    "    # 关闭文件\n",
    "    f.close()\n",
    "```\n",
    "\n",
    "上面的代码尝试打开名为 test.txt 的文件，然后读取文件内容。如果在此过程中出现异常，则会打印出错误信息。无论是否出现异常，最终都会关闭文件。"
   ]
  },
  {
   "cell_type": "markdown",
   "id": "c29bbb58",
   "metadata": {},
   "source": [
    "# Decorator 装饰器"
   ]
  },
  {
   "cell_type": "code",
   "execution_count": 2,
   "id": "eb038206",
   "metadata": {},
   "outputs": [],
   "source": [
    "import datetime\n",
    "\n",
    "def now_time():\n",
    "    now = datetime.datetime.now()\n",
    "    print(\"Current time is: {}\".format(now))"
   ]
  },
  {
   "cell_type": "markdown",
   "id": "f3af679f",
   "metadata": {},
   "source": [
    "现在，假设我们要增强now()函数的功能，比如，在函数调用前后自动打印日志，但又不希望修改now_time()函数的定义，这种在代码运行期间动态增加功能的方式，称之为“装饰器”（Decorator）。"
   ]
  },
  {
   "cell_type": "code",
   "execution_count": 4,
   "id": "6e485887",
   "metadata": {},
   "outputs": [
    {
     "data": {
      "text/plain": [
       "'now_time'"
      ]
     },
     "execution_count": 4,
     "metadata": {},
     "output_type": "execute_result"
    }
   ],
   "source": [
    "now_time.__name__"
   ]
  },
  {
   "cell_type": "code",
   "execution_count": 8,
   "id": "17f1f424",
   "metadata": {},
   "outputs": [],
   "source": [
    "def log(func):\n",
    "    def wrapper(*args, **kw):\n",
    "        print('call %s():' % func.__name__)\n",
    "        return func(*args, **kw)\n",
    "    return wrapper"
   ]
  },
  {
   "cell_type": "markdown",
   "id": "646ad9ba",
   "metadata": {},
   "source": [
    "log因为它是一个decorator，所以接受一个函数作为参数，并返回一个函数。我们要借助Python的@语法，把decorator置于函数的定义处"
   ]
  },
  {
   "cell_type": "code",
   "execution_count": 9,
   "id": "b32f9f98",
   "metadata": {},
   "outputs": [
    {
     "name": "stdout",
     "output_type": "stream",
     "text": [
      "call now_time():\n",
      "Current time is: 2023-04-03 15:50:35.753011\n"
     ]
    }
   ],
   "source": [
    "@log\n",
    "\n",
    "def now_time():\n",
    "    now = datetime.datetime.now()\n",
    "    print(\"Current time is: {}\".format(now))\n",
    "\n",
    "# 调用now()函数，不仅会运行now()函数本身，还会在运行now()函数前打印一行日志\n",
    "#把@log放到now()函数的定义处，相当于执行了语句：now_time = log(now)\n",
    "now_time()"
   ]
  },
  {
   "cell_type": "markdown",
   "id": "9c79a2d9",
   "metadata": {},
   "source": [
    "wrapper()函数的参数定义是(* args, ** kw)，因此，wrapper()函数可以接受任意参数的调用。在wrapper()函数内，首先打印日志，再紧接着调用原始函数。"
   ]
  },
  {
   "cell_type": "code",
   "execution_count": 13,
   "id": "d2f7f715",
   "metadata": {},
   "outputs": [
    {
     "name": "stdout",
     "output_type": "stream",
     "text": [
      "execute now_time():\n",
      "Current time is: 2023-04-03 15:57:07.025142\n"
     ]
    }
   ],
   "source": [
    "def log(text):\n",
    "    def decorator(func):\n",
    "        def wrapper(*args, **kw):\n",
    "            print('%s %s():' % (text, func.__name__)) # 首先打印日志\n",
    "            return func(*args, **kw) #再紧接着调用原始函数\n",
    "        return wrapper\n",
    "    return decorator\n",
    "\n",
    "@log('execute')\n",
    "def now_time():\n",
    "    now = datetime.datetime.now()\n",
    "    print(\"Current time is: {}\".format(now))\n",
    "\n",
    "#和两层嵌套的decorator相比，3层嵌套的效果是这样的：now = log('execute')(now)\n",
    "now_time()"
   ]
  },
  {
   "cell_type": "code",
   "execution_count": 14,
   "id": "98120fe9",
   "metadata": {},
   "outputs": [
    {
     "data": {
      "text/plain": [
       "'wrapper'"
      ]
     },
     "execution_count": 14,
     "metadata": {},
     "output_type": "execute_result"
    }
   ],
   "source": [
    "# 经过decorator装饰之后的函数，它们的__name__已经从原来的'now'变成了'wrapper'：\n",
    "now_time.__name__"
   ]
  },
  {
   "cell_type": "markdown",
   "id": "75b9ebbb",
   "metadata": {},
   "source": [
    "因为返回的那个wrapper()函数名字就是'wrapper'，所以，需要把原始函数的 __ name __ 等属性复制到wrapper()函数中，否则，有些依赖函数签名的代码执行就会出错。Python内置的functools.wraps就是干这个事的，所以，一个完整的decorator的写法如下："
   ]
  },
  {
   "cell_type": "code",
   "execution_count": 15,
   "id": "a767ec7f",
   "metadata": {},
   "outputs": [],
   "source": [
    "# 两层嵌套打印日志\n",
    "import functools\n",
    "\n",
    "def log(func):\n",
    "    @functools.wraps(func)\n",
    "    def wrapper(*args, **kw):\n",
    "        print('call %s():' % func.__name__)\n",
    "        return func(*args, **kw)\n",
    "    return wrapper"
   ]
  },
  {
   "cell_type": "code",
   "execution_count": 16,
   "id": "8b71949d",
   "metadata": {},
   "outputs": [],
   "source": [
    "# 三层嵌套\n",
    "import functools\n",
    "\n",
    "def log(text):\n",
    "    def decorator(func):\n",
    "        @functools.wraps(func)\n",
    "        def wrapper(*args, **kw):\n",
    "            print('%s %s():' % (text, func.__name__))\n",
    "            return func(*args, **kw)\n",
    "        return wrapper\n",
    "    return decorator"
   ]
  },
  {
   "cell_type": "code",
   "execution_count": 20,
   "id": "7203597f",
   "metadata": {},
   "outputs": [
    {
     "name": "stdout",
     "output_type": "stream",
     "text": [
      "execute now_time():\n",
      "Current time is: 2023-04-03 16:02:42.922759\n"
     ]
    },
    {
     "data": {
      "text/plain": [
       "'now_time'"
      ]
     },
     "execution_count": 20,
     "metadata": {},
     "output_type": "execute_result"
    }
   ],
   "source": [
    "@log('execute')\n",
    "def now_time():\n",
    "    now = datetime.datetime.now()\n",
    "    print(\"Current time is: {}\".format(now))\n",
    "\n",
    "now_time()\n",
    "now_time.__name__"
   ]
  },
  {
   "cell_type": "markdown",
   "id": "115e3107",
   "metadata": {},
   "source": [
    "# 函数变量的作用域"
   ]
  },
  {
   "cell_type": "code",
   "execution_count": 28,
   "id": "c5224c40",
   "metadata": {},
   "outputs": [
    {
     "name": "stdout",
     "output_type": "stream",
     "text": [
      "1\n",
      "inside: 5\n",
      "1\n"
     ]
    }
   ],
   "source": [
    "x = 1 #全局变量\n",
    "\n",
    "def change_x():\n",
    "    x = 5 #局部变量，只在函数内有用\n",
    "    print('inside:',x)\n",
    "    \n",
    "print(x)\n",
    "change_x()\n",
    "print(x)"
   ]
  },
  {
   "cell_type": "markdown",
   "id": "84f345c6",
   "metadata": {},
   "source": [
    "从函数内部修改全局变量"
   ]
  },
  {
   "cell_type": "code",
   "execution_count": 31,
   "id": "bcee4a9a",
   "metadata": {},
   "outputs": [
    {
     "name": "stdout",
     "output_type": "stream",
     "text": [
      "out: 1\n",
      "inside: 5\n",
      "out: 5\n"
     ]
    }
   ],
   "source": [
    "x = 1 #全局变量\n",
    "\n",
    "def change_x():\n",
    "    global x\n",
    "    x = 5 #内外的x都改为5\n",
    "    print('inside:',x)\n",
    "    \n",
    "print('out:',x)\n",
    "change_x()\n",
    "print('out:',x)"
   ]
  },
  {
   "cell_type": "markdown",
   "id": "8b5c70ba",
   "metadata": {},
   "source": [
    "建议全局变量用大写字母表示"
   ]
  },
  {
   "cell_type": "markdown",
   "id": "3dd37287",
   "metadata": {},
   "source": [
    "# Overloading 重载\n",
    "\n",
    "方法重载（Method Overloading）是指在同一个类中定义具有相同名称但参数不同的多个方法，以便在不同情况下执行不同的操作。\n",
    "\n",
    "python 和其他编程语言不太一样，它不太支持方法重载。"
   ]
  },
  {
   "cell_type": "code",
   "execution_count": 33,
   "id": "236f72c2",
   "metadata": {},
   "outputs": [],
   "source": [
    "def add(a,b):\n",
    "    return a+b"
   ]
  },
  {
   "cell_type": "code",
   "execution_count": 34,
   "id": "06fd5047",
   "metadata": {},
   "outputs": [],
   "source": [
    "def add(a,b,c):\n",
    "    return a+b+c"
   ]
  },
  {
   "cell_type": "code",
   "execution_count": 35,
   "id": "05427d84",
   "metadata": {},
   "outputs": [
    {
     "data": {
      "text/plain": [
       "6"
      ]
     },
     "execution_count": 35,
     "metadata": {},
     "output_type": "execute_result"
    }
   ],
   "source": [
    "add(1,2,3)"
   ]
  },
  {
   "cell_type": "code",
   "execution_count": 36,
   "id": "07460f07",
   "metadata": {},
   "outputs": [
    {
     "ename": "TypeError",
     "evalue": "add() missing 1 required positional argument: 'c'",
     "output_type": "error",
     "traceback": [
      "\u001b[1;31m---------------------------------------------------------------------------\u001b[0m",
      "\u001b[1;31mTypeError\u001b[0m                                 Traceback (most recent call last)",
      "\u001b[1;32m~\\AppData\\Local\\Temp/ipykernel_10328/991749134.py\u001b[0m in \u001b[0;36m<module>\u001b[1;34m\u001b[0m\n\u001b[1;32m----> 1\u001b[1;33m \u001b[0madd\u001b[0m\u001b[1;33m(\u001b[0m\u001b[1;36m1\u001b[0m\u001b[1;33m,\u001b[0m\u001b[1;36m2\u001b[0m\u001b[1;33m)\u001b[0m\u001b[1;33m\u001b[0m\u001b[1;33m\u001b[0m\u001b[0m\n\u001b[0m",
      "\u001b[1;31mTypeError\u001b[0m: add() missing 1 required positional argument: 'c'"
     ]
    }
   ],
   "source": [
    "add(1,2)"
   ]
  },
  {
   "cell_type": "code",
   "execution_count": 44,
   "id": "44d95e9d",
   "metadata": {},
   "outputs": [],
   "source": [
    "def add(*args):\n",
    "    result = 0\n",
    "    for num in args:\n",
    "        result += num\n",
    "    return result"
   ]
  },
  {
   "cell_type": "code",
   "execution_count": 45,
   "id": "68f6d771",
   "metadata": {},
   "outputs": [
    {
     "data": {
      "text/plain": [
       "3"
      ]
     },
     "execution_count": 45,
     "metadata": {},
     "output_type": "execute_result"
    }
   ],
   "source": [
    "add(1,2)"
   ]
  },
  {
   "cell_type": "code",
   "execution_count": 46,
   "id": "4d9ba614",
   "metadata": {},
   "outputs": [
    {
     "data": {
      "text/plain": [
       "6"
      ]
     },
     "execution_count": 46,
     "metadata": {},
     "output_type": "execute_result"
    }
   ],
   "source": [
    "add(1,2,3)"
   ]
  },
  {
   "cell_type": "markdown",
   "id": "a9ba3bb9",
   "metadata": {},
   "source": [
    "# Object 对象\n",
    "\n",
    "在编程中，对象是一个实例，它具有一组属性和方法。对象是面向对象编程（Object-Oriented Programming，OOP）的基本概念之一。\n",
    "\n",
    "对象可以看作是一种数据类型，它具有属性和行为。例如，可以创建一个名为\"person\"的对象，并为其指定属性（例如姓名、年龄、性别等）和方法（例如说话、行走、跑步等）。在面向对象编程中，对象是基于类创建的。类是定义对象属性和方法的模板。\n",
    "\n",
    "在程序中，对象通常用于表示真实世界中的实体，例如人、车、电脑等。对象可以通过调用其方法来执行特定的任务，例如计算、处理数据、显示输出等。\n",
    "\n",
    "对象具有以下特征：\n",
    "\n",
    "状态：对象具有一组属性，这些属性描述了对象的状态。\n",
    "\n",
    "行为：对象具有一组方法，这些方法描述了对象可以执行的行为。\n"
   ]
  },
  {
   "cell_type": "markdown",
   "id": "6f184cf0",
   "metadata": {},
   "source": [
    "## Define object with class 用类定义对象\n",
    "\n",
    "类定义了对象的状态（属性）和行为（方法）。例如，可以创建一个名为\"Person\"的类，该类具有属性（例如姓名、年龄、性别等）和方法（例如说话、行走、跑步等）。创建对象时，可以基于这个类来定义其属性和方法。\n",
    "\n",
    "类通常包含以下几个部分：\n",
    "\n",
    "类名：定义类的名称，通常采用大写字母开头的驼峰命名法。\n",
    "\n",
    "属性：定义对象的状态，每个属性通常具有一个名称和一个类型。\n",
    "\n",
    "方法：定义对象的行为，每个方法通常具有一个名称和一些参数，用于执行特定的任务。\n",
    "\n",
    "所以类可以理解为是一个模板，比如一个人有姓名、年龄、性别，会说话、行走、跑步。我把它根据模板实例化变成一个具体的人：张三，16岁，男，他会说话、行走、跑步。"
   ]
  },
  {
   "cell_type": "code",
   "execution_count": 47,
   "id": "eb2eb0ec",
   "metadata": {},
   "outputs": [
    {
     "data": {
      "text/plain": [
       "__main__.Person"
      ]
     },
     "execution_count": 47,
     "metadata": {},
     "output_type": "execute_result"
    }
   ],
   "source": [
    "class Person(): #类 = 模板\n",
    "    pass #函数和类内部是空的，可以先放一个pass\n",
    "\n",
    "zhangsan = Person() # 实例化对象\n",
    "\n",
    "\n",
    "type(zhangsan)"
   ]
  },
  {
   "cell_type": "markdown",
   "id": "df38d699",
   "metadata": {},
   "source": [
    "类似于一个人出生的时候会自带一些东西，创建类也是一样的，可以进行对象初始化。"
   ]
  },
  {
   "cell_type": "code",
   "execution_count": 50,
   "id": "2a19a090",
   "metadata": {},
   "outputs": [
    {
     "data": {
      "text/plain": [
       "'Edward'"
      ]
     },
     "execution_count": 50,
     "metadata": {},
     "output_type": "execute_result"
    },
    {
     "data": {
      "text/plain": [
       "'Male'"
      ]
     },
     "execution_count": 50,
     "metadata": {},
     "output_type": "execute_result"
    }
   ],
   "source": [
    "class Person():  #类 = 模板\n",
    "    def __init__(self,name,gender): #初始化方法\n",
    "        #类中方法的第一个属性必须是self，初始化带了两个参数\n",
    "        self.name = name #把这两个与生俱来的属性（参数）保存到内部\n",
    "        self.gender = gender\n",
    "        \n",
    "zhangsan = Person('Edward','Male')#实例化对象\n",
    "\n",
    "zhangsan.name #查看属性\n",
    "zhangsan.gender"
   ]
  },
  {
   "cell_type": "code",
   "execution_count": 53,
   "id": "559a13d8",
   "metadata": {},
   "outputs": [
    {
     "name": "stdout",
     "output_type": "stream",
     "text": [
      "Hi, I'm Edward. It's Nice to meet you.\n"
     ]
    }
   ],
   "source": [
    "class Person():  #类 = 模板\n",
    "    def __init__(self,name,gender): #初始化方法\n",
    "        #属性\n",
    "        self.name = name \n",
    "        self.gender = gender\n",
    "        \n",
    "    def say(self): #方法\n",
    "        print(\"Hi, I'm \" + self.name + \". It's Nice to meet you.\")\n",
    "        \n",
    "zhangsan = Person('Edward','Male')#实例化对象\n",
    "\n",
    "zhangsan.say()"
   ]
  },
  {
   "cell_type": "markdown",
   "id": "ba21cb35",
   "metadata": {},
   "source": [
    "# Inheritance 继承\n",
    "\n",
    "继承（Inheritance）是一种面向对象编程的重要概念，它允许创建一个类，该类从现有类继承所有属性和方法。在继承关系中，被继承的类称为父类或基类（Base Class），继承的类称为子类或派生类（Derived Class）。\n",
    "\n",
    "Python 中的继承有以下特点：\n",
    "\n",
    "子类可以继承父类的所有属性和方法，包括私有属性和方法。\n",
    "\n",
    "子类可以添加新的属性和方法，以扩展其功能。\n",
    "\n",
    "子类可以重写（Override）父类中的方法，以实现自己的逻辑。\n",
    "\n",
    "子类可以有自己的构造函数，但是可以通过调用父类的构造函数来初始化父类的属性。\n",
    "\n",
    "Python 中的继承使用关键字 class 来定义一个类，并使用关键字 super() 来调用父类的构造函数和方法。"
   ]
  },
  {
   "cell_type": "code",
   "execution_count": 54,
   "id": "40b48914",
   "metadata": {},
   "outputs": [
    {
     "name": "stdout",
     "output_type": "stream",
     "text": [
      "Hi, I'm lizi. It's Nice to meet you.\n"
     ]
    }
   ],
   "source": [
    "class Doctor(Person): #继承了Person类,可以共用父类中的属性和方法\n",
    "    pass\n",
    "\n",
    "lisi = Doctor(\"lizi\",'Male')\n",
    "lisi.say()"
   ]
  },
  {
   "cell_type": "code",
   "execution_count": 55,
   "id": "e83bae42",
   "metadata": {},
   "outputs": [
    {
     "name": "stdout",
     "output_type": "stream",
     "text": [
      "You need some treatment.\n"
     ]
    }
   ],
   "source": [
    "#给子类添加新方法\n",
    "class Doctor(Person): #继承了Person类,可以共用父类中的属性和方法\n",
    "    def diagnose(self):\n",
    "        print(\"You need some treatment.\")\n",
    "\n",
    "lisi = Doctor(\"lizi\",'Male') #调用父级的属性\n",
    "lisi.diagnose() #调用自己的方法"
   ]
  },
  {
   "cell_type": "code",
   "execution_count": 58,
   "id": "dfcbfd1a",
   "metadata": {},
   "outputs": [
    {
     "name": "stdout",
     "output_type": "stream",
     "text": [
      "Hi, I'm Doctor Molly from Cardiac Surgery department. It's Nice to meet you.\n"
     ]
    }
   ],
   "source": [
    "#修改父类初始化方法和重写方法\n",
    "class Doctor(Person): \n",
    "    def __init__(self,name,gender,dept='Cardiac Surgery'): #初始化方法\n",
    "        #属性\n",
    "        self.name = 'Doctor '+ name \n",
    "        self.gender = gender\n",
    "        self.dept = dept\n",
    "        \n",
    "    def say(self): #方法重写 overriding\n",
    "        print(\"Hi, I'm %s from %s department. It's Nice to meet you.\" % (self.name, self.dept))\n",
    "        \n",
    "doctor1 = Doctor('Molly','female')\n",
    "doctor1.say()"
   ]
  },
  {
   "cell_type": "markdown",
   "id": "45e4f6f2",
   "metadata": {},
   "source": [
    "## super（）\n",
    "super() 是一个内置函数，用于调用父类的方法。通常，当子类继承父类并且想要重写父类的方法时，可以使用 super() 函数来调用父类的方法。\n",
    "\n",
    "super() 函数需要两个参数，第一个参数是当前子类的类名，第二个参数是当前子类的对象。"
   ]
  },
  {
   "cell_type": "code",
   "execution_count": 62,
   "id": "9768e7ad",
   "metadata": {},
   "outputs": [
    {
     "name": "stdout",
     "output_type": "stream",
     "text": [
      "Parent method called\n",
      "Child method called\n"
     ]
    }
   ],
   "source": [
    "class Parent:\n",
    "    def __init__(self, x, y):\n",
    "        self.x = x\n",
    "        self.y = y\n",
    "\n",
    "    def my_method(self):\n",
    "        print(\"Parent method called\")\n",
    "\n",
    "class Child(Parent):\n",
    "    def __init__(self, x, y, z):\n",
    "        super().__init__(x, y) #调用了父类的属性\n",
    "        self.z = z #自己新添加的属性\n",
    "\n",
    "    def my_method(self):\n",
    "        super().my_method() #调用了父类的方法\n",
    "        print(\"Child method called\") #自己的新输出\n",
    "\n",
    "c = Child(1, 2, 3)\n",
    "c.my_method()"
   ]
  },
  {
   "cell_type": "code",
   "execution_count": 64,
   "id": "5b82b0d6",
   "metadata": {},
   "outputs": [
    {
     "name": "stdout",
     "output_type": "stream",
     "text": [
      "Hi, I'm Doctor Molly from Cardiac Surgery department. It's Nice to meet you.\n"
     ]
    }
   ],
   "source": [
    "# 这里调用了父类的属性，如果我想现在去修改父类的属性，比如在male前加'not ' +，这里的输出也会变 \n",
    "class Doctor(Person): \n",
    "    def __init__(self,name,gender,dept='Cardiac Surgery'): \n",
    "        super().__init__(name,gender) #调用了父类的属性\n",
    "        self.name = 'Doctor '+ name \n",
    "        self.dept = dept\n",
    "        \n",
    "    def say(self): #方法重写 overriding\n",
    "        print(\"Hi, I'm %s from %s department. It's Nice to meet you.\" % (self.name, self.dept))\n",
    "        \n",
    "doctor1 = Doctor('Molly','female')\n",
    "doctor1.say()"
   ]
  },
  {
   "cell_type": "code",
   "execution_count": 68,
   "id": "7c2553da",
   "metadata": {},
   "outputs": [
    {
     "name": "stdout",
     "output_type": "stream",
     "text": [
      "Hi, I'm Doctor Molly. It's Nice to meet you.\n",
      "Hi, I'm lizi. It's Nice to meet you.\n"
     ]
    }
   ],
   "source": [
    "# 类名.方法（对象） 直接调用\n",
    "# 父类可以调用自己的对象，也可以调用子类的对象，但是子类只能调用自己或者子类的对象\n",
    "Person.say(doctor1) #父类调用子类对象\n",
    "Person.say(lisi) #父类调用子父类自己的对象"
   ]
  },
  {
   "cell_type": "code",
   "execution_count": 67,
   "id": "7e0505e5",
   "metadata": {},
   "outputs": [
    {
     "name": "stdout",
     "output_type": "stream",
     "text": [
      "Hi, I'm Doctor Molly from Cardiac Surgery department. It's Nice to meet you.\n"
     ]
    }
   ],
   "source": [
    "Doctor.say(doctor1) #子类调用自己的对象"
   ]
  },
  {
   "cell_type": "markdown",
   "id": "31ac0c48",
   "metadata": {},
   "source": [
    "## Properties\n",
    "\n",
    "python doesn't need getters and setters, because all attributes and method are public. python中所有的属性和方法都是公共的。\n",
    "\n",
    "if you do need to protect your data somehow, use properties -- Pythonic getter and setters. 如果需要保护内部成员，可以通过一些特质来实现。"
   ]
  },
  {
   "cell_type": "code",
   "execution_count": 75,
   "id": "1fc15103",
   "metadata": {},
   "outputs": [
    {
     "name": "stdout",
     "output_type": "stream",
     "text": [
      "Molly\n",
      "Kiki\n"
     ]
    }
   ],
   "source": [
    "class MyClass:\n",
    "    def __init__(self, name):\n",
    "        self.hidden_name = name #内外部名字可以不一样\n",
    "\n",
    "    @property #getter\n",
    "    def name(self):\n",
    "        return self.hidden_name\n",
    "\n",
    "    @name.setter #setter\n",
    "    def name(self, new_name):\n",
    "        self.hidden_name = new_name\n",
    "\n",
    "obj = MyClass('Molly')\n",
    "print(obj.name)  # 调用了name属性\n",
    "\n",
    "obj.name = 'Kiki' #调用了setter方法\n",
    "print(obj.name)"
   ]
  },
  {
   "cell_type": "code",
   "execution_count": 77,
   "id": "ca6805f8",
   "metadata": {},
   "outputs": [
    {
     "name": "stdout",
     "output_type": "stream",
     "text": [
      "radius = 5 , diameter = 10\n"
     ]
    }
   ],
   "source": [
    "# 运用例子\n",
    "class Circle():\n",
    "    def __init__(self,radius):\n",
    "        self.hidden = radius\n",
    "        \n",
    "    @property\n",
    "    def diameter(self):\n",
    "        return 2 * self.hidden\n",
    "\n",
    "c = Circle(5)\n",
    "print(\"radius = %d , diameter = %d\" % (c.hidden, c.diameter))"
   ]
  },
  {
   "cell_type": "code",
   "execution_count": 78,
   "id": "721e04c0",
   "metadata": {},
   "outputs": [
    {
     "data": {
      "text/plain": [
       "14"
      ]
     },
     "execution_count": 78,
     "metadata": {},
     "output_type": "execute_result"
    }
   ],
   "source": [
    "c.hidden = 7\n",
    "c.diameter"
   ]
  },
  {
   "cell_type": "markdown",
   "id": "296c04a3",
   "metadata": {},
   "source": [
    "# Method Types\n",
    "\n",
    "1. When you see an initial **self** argument in a method, it's an instance method.\n",
    "\n",
    "2. in contrast, a **class method** affects the class as a whole.\n",
    "\n",
    "3. A third type of method affects neither the class nor its objects, it's just in there for convenience instead of floating around its own. It's a **static method**."
   ]
  },
  {
   "cell_type": "code",
   "execution_count": 79,
   "id": "2609a612",
   "metadata": {},
   "outputs": [],
   "source": [
    "class A():\n",
    "    count = 0  #此变量属于类所有\n",
    "    \n",
    "    def __init__(self):#每次调用类都一定会调用初始化方法\n",
    "        A.count += 1 #看看此类被实例化了多少次\n",
    "        \n",
    "    @classmethod\n",
    "    def kids(cls): #类作参数\n",
    "        print(\"A has\",cls.count,\"objects\")"
   ]
  },
  {
   "cell_type": "code",
   "execution_count": 80,
   "id": "41793501",
   "metadata": {},
   "outputs": [
    {
     "name": "stdout",
     "output_type": "stream",
     "text": [
      "A has 0 objects\n"
     ]
    }
   ],
   "source": [
    "A.kids()"
   ]
  },
  {
   "cell_type": "code",
   "execution_count": 81,
   "id": "e043425e",
   "metadata": {},
   "outputs": [
    {
     "name": "stdout",
     "output_type": "stream",
     "text": [
      "A has 2 objects\n"
     ]
    }
   ],
   "source": [
    "a1 = A()\n",
    "a2 = A()\n",
    "A.kids()"
   ]
  },
  {
   "cell_type": "code",
   "execution_count": 82,
   "id": "97b32bce",
   "metadata": {},
   "outputs": [
    {
     "name": "stdout",
     "output_type": "stream",
     "text": [
      "I'm just a static method.\n"
     ]
    }
   ],
   "source": [
    "class A():\n",
    "    count = 0  #此变量属于类所有\n",
    "    \n",
    "    def __init__(self):#每次调用类都一定会调用初始化方法\n",
    "        A.count += 1 #看看此类被实例化了多少次\n",
    "        \n",
    "    @staticmethod\n",
    "    def whoami():\n",
    "        print(\"I'm just a static method.\")\n",
    "        \n",
    "A.whoami()"
   ]
  },
  {
   "cell_type": "code",
   "execution_count": 88,
   "id": "d279b6b7",
   "metadata": {},
   "outputs": [
    {
     "data": {
      "text/plain": [
       "12"
      ]
     },
     "execution_count": 88,
     "metadata": {},
     "output_type": "execute_result"
    },
    {
     "data": {
      "text/plain": [
       "False"
      ]
     },
     "execution_count": 88,
     "metadata": {},
     "output_type": "execute_result"
    }
   ],
   "source": [
    "#运用\n",
    "class Date(object):#继承object\n",
    "    def __init__(self,day=0, month=0, year=0):\n",
    "        self.day = day\n",
    "        self.month = month\n",
    "        self.year = year\n",
    "        \n",
    "    @classmethod\n",
    "    def from_string(cls, date_as_string):\n",
    "        day, month, year = map(int,date_as_string.split('-'))\n",
    "        date1 = cls(day,month,year)\n",
    "        return date1\n",
    "    \n",
    "    @staticmethod #用静态方法进行校验\n",
    "    def is_date_valid(date_as_string):\n",
    "        day, month, year = map(int,date_as_string.split('-'))\n",
    "        return day <=30 and month <=12 and year <=3999\n",
    "    \n",
    "date2 = Date.from_string('12-12-2011')\n",
    "date2.day\n",
    "is_date = Date.is_date_valid('44-56-1234')\n",
    "is_date"
   ]
  },
  {
   "cell_type": "code",
   "execution_count": null,
   "id": "49357c69",
   "metadata": {},
   "outputs": [],
   "source": []
  },
  {
   "cell_type": "code",
   "execution_count": null,
   "id": "e12c6e82",
   "metadata": {},
   "outputs": [],
   "source": []
  },
  {
   "cell_type": "code",
   "execution_count": null,
   "id": "38bc74a7",
   "metadata": {},
   "outputs": [],
   "source": []
  },
  {
   "cell_type": "code",
   "execution_count": null,
   "id": "7bfb85ff",
   "metadata": {},
   "outputs": [],
   "source": []
  },
  {
   "cell_type": "code",
   "execution_count": null,
   "id": "a12bd880",
   "metadata": {},
   "outputs": [],
   "source": []
  },
  {
   "cell_type": "code",
   "execution_count": null,
   "id": "3712db4e",
   "metadata": {},
   "outputs": [],
   "source": []
  },
  {
   "cell_type": "code",
   "execution_count": null,
   "id": "85179651",
   "metadata": {},
   "outputs": [],
   "source": []
  },
  {
   "cell_type": "code",
   "execution_count": null,
   "id": "044497fa",
   "metadata": {},
   "outputs": [],
   "source": []
  },
  {
   "cell_type": "code",
   "execution_count": null,
   "id": "d7e77842",
   "metadata": {},
   "outputs": [],
   "source": []
  },
  {
   "cell_type": "code",
   "execution_count": null,
   "id": "465d64a8",
   "metadata": {},
   "outputs": [],
   "source": []
  },
  {
   "cell_type": "code",
   "execution_count": null,
   "id": "b8c48ab9",
   "metadata": {},
   "outputs": [],
   "source": []
  }
 ],
 "metadata": {
  "kernelspec": {
   "display_name": "Python 3 (ipykernel)",
   "language": "python",
   "name": "python3"
  },
  "language_info": {
   "codemirror_mode": {
    "name": "ipython",
    "version": 3
   },
   "file_extension": ".py",
   "mimetype": "text/x-python",
   "name": "python",
   "nbconvert_exporter": "python",
   "pygments_lexer": "ipython3",
   "version": "3.9.7"
  }
 },
 "nbformat": 4,
 "nbformat_minor": 5
}
